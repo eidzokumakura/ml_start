{
  "nbformat": 4,
  "nbformat_minor": 0,
  "metadata": {
    "colab": {
      "provenance": [],
      "toc_visible": true,
      "authorship_tag": "ABX9TyPKbWb2P2dSVbPlgKwCr0kW",
      "include_colab_link": true
    },
    "kernelspec": {
      "name": "python3",
      "display_name": "Python 3"
    },
    "language_info": {
      "name": "python"
    }
  },
  "cells": [
    {
      "cell_type": "markdown",
      "metadata": {
        "id": "view-in-github",
        "colab_type": "text"
      },
      "source": [
        "<a href=\"https://colab.research.google.com/github/eidzokumakura/ml_start/blob/main/block234.ipynb\" target=\"_parent\"><img src=\"https://colab.research.google.com/assets/colab-badge.svg\" alt=\"Open In Colab\"/></a>"
      ]
    },
    {
      "cell_type": "code",
      "execution_count": null,
      "metadata": {
        "colab": {
          "base_uri": "https://localhost:8080/"
        },
        "id": "j_cOrrbOqIac",
        "outputId": "393d28b7-0996-4c28-803e-e0db92b7db5d"
      },
      "outputs": [
        {
          "output_type": "stream",
          "name": "stdout",
          "text": [
            "tensor([[ 20.,  40.,  60.,  80.],\n",
            "        [100., 120., 140., 160.],\n",
            "        [180., 200., 220., 240.]]) <- gradient\n"
          ]
        },
        {
          "output_type": "execute_result",
          "data": {
            "text/plain": [
              "tensor([[0., 0., 0., 0.],\n",
              "        [0., 0., 0., 0.],\n",
              "        [0., 0., 0., 0.]])"
            ]
          },
          "metadata": {},
          "execution_count": 3
        }
      ],
      "source": [
        "import torch\n",
        "\n",
        "x = torch.tensor([[1., 2., 3., 4.,],\n",
        "                  [5., 6., 7., 8.,],\n",
        "                  [9.,10.,11.,12.,]], requires_grad=True)\n",
        "\n",
        "#######\n",
        "device = torch.device('cuda:0' if torch.cuda.is_available() else 'cpu')\n",
        "\n",
        "x = x.to(device)\n",
        "#######\n",
        "\n",
        "function = 10 * (x ** 2).sum()\n",
        "\n",
        "function.backward()\n",
        "\n",
        "print(x.grad, '<- gradient')\n",
        "\n",
        "x.data -= 0.001 * x.grad\n",
        "\n",
        "x.grad.zero_()"
      ]
    },
    {
      "cell_type": "markdown",
      "source": [
        "# Функции"
      ],
      "metadata": {
        "id": "oP6Wn83Dr0yO"
      }
    },
    {
      "cell_type": "code",
      "source": [
        "import torch\n",
        "import numpy as np\n",
        "x = torch.tensor([8., 8.], requires_grad=True)\n",
        "\n",
        "optimizer = torch.optim.SGD([x], lr = 0.001)\n",
        "\n",
        "def function_parabola(variable):\n",
        "  return 10 * (variable ** 2).sum()\n",
        "\n",
        "def function_skewed(variable):\n",
        "  gramma = torch.tensor([[1., -1.], [1., 1.]]) @ torch.tensor([[1.0, 0.0], [0.0, 4.0]])\n",
        "  res = 10 * (variable.unsqueeze(0) @ (gramma @ variable.unsqueeze(1))).sum()\n",
        "  return res\n",
        "\n",
        "def function_s\n",
        "\n",
        "def make_gradient_step(function, variable):\n",
        "  function_result = function(variable)\n",
        "  function_result.backward()\n",
        "  optimizer.step()\n",
        "  optimizer.zero_grad()\n",
        "\n",
        "for i in range(500):\n",
        "  make_gradient_step(function_parabola, x)\n",
        "print(x)\n",
        "\n"
      ],
      "metadata": {
        "id": "qqzuOvvWr2tk",
        "colab": {
          "base_uri": "https://localhost:8080/"
        },
        "outputId": "f1e4f4cd-4720-4e07-d16e-71026823b662"
      },
      "execution_count": null,
      "outputs": [
        {
          "output_type": "stream",
          "name": "stdout",
          "text": [
            "tensor([0.0003, 0.0003], requires_grad=True)\n"
          ]
        }
      ]
    },
    {
      "cell_type": "markdown",
      "source": [
        "# Семинар: реализация градиентного спуска"
      ],
      "metadata": {
        "id": "EkyrwDqTqGpq"
      }
    },
    {
      "cell_type": "code",
      "source": [
        "import torch\n",
        "\n",
        "w = torch.tensor([[5., 10.],\n",
        "                 [1., 2.]], requires_grad=True)\n",
        "\n",
        "function =  torch.prod(torch.log(torch.log(w + 7)))\n",
        "function.backward()\n",
        "\n",
        "print(w.grad) # Код для самопроверки"
      ],
      "metadata": {
        "colab": {
          "base_uri": "https://localhost:8080/"
        },
        "id": "ea-EWirZpTAP",
        "outputId": "0c4d25b6-52fc-491b-c37a-098db1282d7c"
      },
      "execution_count": null,
      "outputs": [
        {
          "output_type": "stream",
          "name": "stdout",
          "text": [
            "tensor([[0.0201, 0.0109],\n",
            "        [0.0449, 0.0351]])\n"
          ]
        }
      ]
    },
    {
      "cell_type": "code",
      "source": [
        "import torch\n",
        "\n",
        "w = torch.tensor([[5., 10.], [1., 2.]], requires_grad=True)\n",
        "alpha = 0.001\n",
        "\n",
        "for _ in range(500):\n",
        "    # critical: calculate the function inside the loop\n",
        "    function = (w + 7).log().log().prod()\n",
        "    function.backward()\n",
        "    w.data -=  alpha * w.grad\n",
        "    w.grad.zero_()\n",
        "\n",
        "print(w) # Код для самопроверки"
      ],
      "metadata": {
        "colab": {
          "base_uri": "https://localhost:8080/"
        },
        "id": "CLseMz14rnPK",
        "outputId": "201e6cc2-9aac-40c9-873f-f7af12182107"
      },
      "execution_count": null,
      "outputs": [
        {
          "output_type": "stream",
          "name": "stdout",
          "text": [
            "tensor([[4.9900, 9.9948],\n",
            "        [0.9775, 1.9825]], requires_grad=True)\n"
          ]
        }
      ]
    },
    {
      "cell_type": "markdown",
      "source": [
        "# Семинар: строим первую нейронную сеть"
      ],
      "metadata": {
        "id": "EOL0F1yHluH6"
      }
    },
    {
      "cell_type": "code",
      "source": [
        "%matplotlib inline\n",
        "\n",
        "import matplotlib.pyplot as plt\n",
        "import matplotlib\n",
        "matplotlib.rcParams['figure.figsize'] = (13.0, 5.0)"
      ],
      "metadata": {
        "id": "aJcI4tDeoApd"
      },
      "execution_count": null,
      "outputs": []
    },
    {
      "cell_type": "code",
      "source": [
        "import torch"
      ],
      "metadata": {
        "id": "79k1UXKyzUSD"
      },
      "execution_count": null,
      "outputs": []
    },
    {
      "cell_type": "markdown",
      "source": [
        "**Train dataset**\n"
      ],
      "metadata": {
        "id": "YQPeU0O5zZJZ"
      }
    },
    {
      "cell_type": "code",
      "source": [
        "x_train = torch.rand(100)\n",
        "x_train = x_train * 20.0 - 10.0\n",
        "\n",
        "y_train = torch.sin(x_train)\n",
        "\n",
        "plt.plot(x_train.numpy(), y_train.numpy(), 'o')\n",
        "plt.title('$y = sin(x)$')"
      ],
      "metadata": {
        "colab": {
          "base_uri": "https://localhost:8080/",
          "height": 487
        },
        "id": "7Q4KSDJzzhiD",
        "outputId": "74f9fcc8-8fe1-4972-b5ca-5d75bd821542"
      },
      "execution_count": null,
      "outputs": [
        {
          "output_type": "execute_result",
          "data": {
            "text/plain": [
              "Text(0.5, 1.0, '$y = sin(x)$')"
            ]
          },
          "metadata": {},
          "execution_count": 3
        },
        {
          "output_type": "display_data",
          "data": {
            "text/plain": [
              "<Figure size 1300x500 with 1 Axes>"
            ],
            "image/png": "[encoded data removed]"
          },
          "metadata": {}
        }
      ]
    },
    {
      "cell_type": "code",
      "source": [
        "noise = torch.randn(y_train.shape) / 5.\n",
        "\n",
        "plt.plot(x_train.numpy(), noise.numpy(), 'o')\n",
        "plt.axis([-10, 10, -1, 1])\n",
        "plt.title('Gaussian noise')"
      ],
      "metadata": {
        "colab": {
          "base_uri": "https://localhost:8080/",
          "height": 485
        },
        "id": "wjIjAeVY3DsM",
        "outputId": "e113696c-fcbc-4542-ae70-391f06fb2f79"
      },
      "execution_count": null,
      "outputs": [
        {
          "output_type": "execute_result",
          "data": {
            "text/plain": [
              "Text(0.5, 1.0, 'Gaussian noise')"
            ]
          },
          "metadata": {},
          "execution_count": 4
        },
        {
          "output_type": "display_data",
          "data": {
            "text/plain": [
              "<Figure size 1300x500 with 1 Axes>"
            ],
            "image/png": "[encoded data removed]"
          },
          "metadata": {}
        }
      ]
    },
    {
      "cell_type": "code",
      "source": [
        "y_train = y_train + noise\n",
        "plt.plot(x_train.numpy(), y_train.numpy(), 'o')\n",
        "plt.title('noisy sin(x)')\n",
        "plt.xlabel('x_train')\n",
        "plt.ylabel('y_train')"
      ],
      "metadata": {
        "colab": {
          "base_uri": "https://localhost:8080/",
          "height": 504
        },
        "id": "kCgwtvW23G1E",
        "outputId": "93fa2982-3f91-454b-dda5-101a55769158"
      },
      "execution_count": null,
      "outputs": [
        {
          "output_type": "execute_result",
          "data": {
            "text/plain": [
              "Text(0, 0.5, 'y_train')"
            ]
          },
          "metadata": {},
          "execution_count": 5
        },
        {
          "output_type": "display_data",
          "data": {
            "text/plain": [
              "<Figure size 1300x500 with 1 Axes>"
            ],
            "image/png": "[encoded data removed]"
          },
          "metadata": {}
        }
      ]
    },
    {
      "cell_type": "code",
      "source": [
        "x_train.unsqueeze_(1) # приведение данных к одной размерности, вектор x-строчку превратить в столбец у которого в каждой строчке будет одно число x (если стоит нижнее подчёркивание после названия функции, то функция применяется сразу к объекту)\n",
        "y_train.unsqueeze_(1) # приведение данных к одной размерности, вектор y-строчку превратить в столбец у которого в каждой строчке будет одно число y (если стоит нижнее подчёркивание после названия функции, то функция применяется сразу к объекту)"
      ],
      "metadata": {
        "colab": {
          "base_uri": "https://localhost:8080/"
        },
        "id": "f8-YdVZi4nwg",
        "outputId": "bc7f9a91-c17a-43db-bfdb-8c0c5a655e1e"
      },
      "execution_count": null,
      "outputs": [
        {
          "output_type": "execute_result",
          "data": {
            "text/plain": [
              "tensor([[-0.6918],\n",
              "        [-0.4033],\n",
              "        [ 0.3739],\n",
              "        [ 0.4442],\n",
              "        [-0.8228],\n",
              "        [-0.8513],\n",
              "        [-0.6681],\n",
              "        [-0.9648],\n",
              "        [-1.1629],\n",
              "        [ 0.5679],\n",
              "        [-1.3662],\n",
              "        [ 0.8111],\n",
              "        [-0.4274],\n",
              "        [ 0.9708],\n",
              "        [ 0.9618],\n",
              "        [-0.3589],\n",
              "        [-0.6487],\n",
              "        [ 0.7194],\n",
              "        [-0.8744],\n",
              "        [ 0.5223],\n",
              "        [-0.9090],\n",
              "        [ 0.5550],\n",
              "        [ 0.8082],\n",
              "        [ 0.6695],\n",
              "        [ 0.5162],\n",
              "        [ 0.8957],\n",
              "        [-0.9444],\n",
              "        [-0.0497],\n",
              "        [ 0.9141],\n",
              "        [-0.0087],\n",
              "        [ 0.3252],\n",
              "        [ 0.1829],\n",
              "        [-0.0354],\n",
              "        [-0.4822],\n",
              "        [ 0.3372],\n",
              "        [-1.0023],\n",
              "        [-0.8579],\n",
              "        [ 0.6269],\n",
              "        [-0.6853],\n",
              "        [-0.4583],\n",
              "        [-0.1534],\n",
              "        [ 0.8056],\n",
              "        [ 0.7958],\n",
              "        [-0.7666],\n",
              "        [ 0.5241],\n",
              "        [ 0.7319],\n",
              "        [ 1.2149],\n",
              "        [ 0.7030],\n",
              "        [-0.2394],\n",
              "        [-0.4287],\n",
              "        [ 0.0342],\n",
              "        [-0.5330],\n",
              "        [ 0.3084],\n",
              "        [ 0.1236],\n",
              "        [-0.7206],\n",
              "        [-0.8516],\n",
              "        [ 0.6206],\n",
              "        [ 0.3011],\n",
              "        [ 0.0975],\n",
              "        [ 0.8001],\n",
              "        [ 0.8454],\n",
              "        [-0.7109],\n",
              "        [ 0.0565],\n",
              "        [-0.8372],\n",
              "        [-0.7069],\n",
              "        [-0.7653],\n",
              "        [-0.5705],\n",
              "        [ 1.0841],\n",
              "        [-0.4322],\n",
              "        [-0.4493],\n",
              "        [-0.4459],\n",
              "        [ 1.0488],\n",
              "        [-0.9936],\n",
              "        [-0.1195],\n",
              "        [-0.1351],\n",
              "        [ 1.1078],\n",
              "        [ 1.0597],\n",
              "        [-0.1041],\n",
              "        [ 0.1530],\n",
              "        [ 0.6291],\n",
              "        [-0.1498],\n",
              "        [-0.8150],\n",
              "        [ 0.8225],\n",
              "        [ 0.9286],\n",
              "        [ 0.5034],\n",
              "        [-1.1431],\n",
              "        [-0.9005],\n",
              "        [-0.4174],\n",
              "        [ 1.1406],\n",
              "        [ 0.6885],\n",
              "        [ 1.2920],\n",
              "        [ 0.8162],\n",
              "        [ 0.3858],\n",
              "        [-0.4490],\n",
              "        [-0.4552],\n",
              "        [ 0.3928],\n",
              "        [-0.5709],\n",
              "        [-0.2640],\n",
              "        [ 0.5157],\n",
              "        [ 1.0794]])"
            ]
          },
          "metadata": {},
          "execution_count": 6
        }
      ]
    },
    {
      "cell_type": "code",
      "source": [
        "tmp = torch.Tensor([1, 2, 3])\n",
        "print(tmp)\n",
        "print(tmp.unsqueeze_(1)) # пример как работает unsqueeze"
      ],
      "metadata": {
        "colab": {
          "base_uri": "https://localhost:8080/"
        },
        "id": "Br3Se7Dn5Q2C",
        "outputId": "e28969a3-221c-4045-fcdb-9c5a6ed5eecf"
      },
      "execution_count": null,
      "outputs": [
        {
          "output_type": "stream",
          "name": "stdout",
          "text": [
            "tensor([1., 2., 3.])\n",
            "tensor([[1.],\n",
            "        [2.],\n",
            "        [3.]])\n"
          ]
        }
      ]
    },
    {
      "cell_type": "markdown",
      "source": [
        "**Validation dataset**"
      ],
      "metadata": {
        "id": "bwgBkMR7-uc7"
      }
    },
    {
      "cell_type": "code",
      "source": [
        "x_validation = torch.linspace(-10, 10, 100)\n",
        "y_validation = torch.sin(x_validation.data)\n",
        "plt.plot(x_validation.numpy(), y_validation.numpy(), 'o')\n",
        "plt.title('sin(x)')\n",
        "plt.xlabel('x_validation')\n",
        "plt.ylabel('y_validation')"
      ],
      "metadata": {
        "id": "veT04FzE-yo-",
        "colab": {
          "base_uri": "https://localhost:8080/",
          "height": 504
        },
        "outputId": "7d4d2a60-5af0-4166-b710-3e279412cc16"
      },
      "execution_count": null,
      "outputs": [
        {
          "output_type": "execute_result",
          "data": {
            "text/plain": [
              "Text(0, 0.5, 'y_validation')"
            ]
          },
          "metadata": {},
          "execution_count": 8
        },
        {
          "output_type": "display_data",
          "data": {
            "text/plain": [
              "<Figure size 1300x500 with 1 Axes>"
            ],
            "image/png": "[encoded data removed]"
          },
          "metadata": {}
        }
      ]
    },
    {
      "cell_type": "code",
      "source": [
        "x_validation.unsqueeze_(1)\n",
        "y_validation.unsqueeze_(1)"
      ],
      "metadata": {
        "id": "n_x5uWOVAHrJ",
        "colab": {
          "base_uri": "https://localhost:8080/"
        },
        "outputId": "9f32f889-023c-4614-ebb4-e48970ac1b11"
      },
      "execution_count": null,
      "outputs": [
        {
          "output_type": "execute_result",
          "data": {
            "text/plain": [
              "tensor([[ 0.5440],\n",
              "        [ 0.3646],\n",
              "        [ 0.1703],\n",
              "        [-0.0308],\n",
              "        [-0.2308],\n",
              "        [-0.4213],\n",
              "        [-0.5947],\n",
              "        [-0.7439],\n",
              "        [-0.8629],\n",
              "        [-0.9467],\n",
              "        [-0.9921],\n",
              "        [-0.9971],\n",
              "        [-0.9615],\n",
              "        [-0.8869],\n",
              "        [-0.7761],\n",
              "        [-0.6338],\n",
              "        [-0.4658],\n",
              "        [-0.2787],\n",
              "        [-0.0804],\n",
              "        [ 0.1213],\n",
              "        [ 0.3180],\n",
              "        [ 0.5017],\n",
              "        [ 0.6651],\n",
              "        [ 0.8014],\n",
              "        [ 0.9051],\n",
              "        [ 0.9720],\n",
              "        [ 0.9994],\n",
              "        [ 0.9861],\n",
              "        [ 0.9327],\n",
              "        [ 0.8414],\n",
              "        [ 0.7158],\n",
              "        [ 0.5612],\n",
              "        [ 0.3837],\n",
              "        [ 0.1906],\n",
              "        [-0.0103],\n",
              "        [-0.2107],\n",
              "        [-0.4026],\n",
              "        [-0.5781],\n",
              "        [-0.7300],\n",
              "        [-0.8523],\n",
              "        [-0.9399],\n",
              "        [-0.9893],\n",
              "        [-0.9985],\n",
              "        [-0.9670],\n",
              "        [-0.8962],\n",
              "        [-0.7889],\n",
              "        [-0.6496],\n",
              "        [-0.4839],\n",
              "        [-0.2984],\n",
              "        [-0.1008],\n",
              "        [ 0.1008],\n",
              "        [ 0.2984],\n",
              "        [ 0.4839],\n",
              "        [ 0.6496],\n",
              "        [ 0.7889],\n",
              "        [ 0.8962],\n",
              "        [ 0.9670],\n",
              "        [ 0.9985],\n",
              "        [ 0.9893],\n",
              "        [ 0.9399],\n",
              "        [ 0.8523],\n",
              "        [ 0.7300],\n",
              "        [ 0.5781],\n",
              "        [ 0.4026],\n",
              "        [ 0.2107],\n",
              "        [ 0.0103],\n",
              "        [-0.1906],\n",
              "        [-0.3837],\n",
              "        [-0.5612],\n",
              "        [-0.7158],\n",
              "        [-0.8414],\n",
              "        [-0.9327],\n",
              "        [-0.9861],\n",
              "        [-0.9994],\n",
              "        [-0.9720],\n",
              "        [-0.9051],\n",
              "        [-0.8014],\n",
              "        [-0.6651],\n",
              "        [-0.5017],\n",
              "        [-0.3180],\n",
              "        [-0.1213],\n",
              "        [ 0.0804],\n",
              "        [ 0.2787],\n",
              "        [ 0.4658],\n",
              "        [ 0.6338],\n",
              "        [ 0.7761],\n",
              "        [ 0.8869],\n",
              "        [ 0.9615],\n",
              "        [ 0.9971],\n",
              "        [ 0.9921],\n",
              "        [ 0.9467],\n",
              "        [ 0.8629],\n",
              "        [ 0.7439],\n",
              "        [ 0.5947],\n",
              "        [ 0.4213],\n",
              "        [ 0.2308],\n",
              "        [ 0.0308],\n",
              "        [-0.1703],\n",
              "        [-0.3646],\n",
              "        [-0.5440]])"
            ]
          },
          "metadata": {},
          "execution_count": 9
        }
      ]
    },
    {
      "cell_type": "markdown",
      "source": [
        "**Model construction**"
      ],
      "metadata": {
        "id": "b3k3aRWsWdnZ"
      }
    },
    {
      "cell_type": "code",
      "source": [
        "class SineNet(torch.nn.Module):\n",
        "  def __init__(self, n_hidden_neurons):\n",
        "    super(SineNet, self).__init__()\n",
        "    self.fc1 = torch.nn.Linear(1, n_hidden_neurons)\n",
        "    self.act1 = torch.nn.Sigmoid()\n",
        "    self.fc2 = torch.nn.Linear(n_hidden_neurons, 1)\n",
        "\n",
        "  def forward(self, x):\n",
        "    x = self.fc1(x)\n",
        "    x = self.act1(x)\n",
        "    x = self.fc2(x)\n",
        "    return x\n",
        "sine_net = SineNet(50)"
      ],
      "metadata": {
        "id": "Rr7V_v9bWgTX"
      },
      "execution_count": null,
      "outputs": []
    },
    {
      "cell_type": "markdown",
      "source": [
        "**Prediction**"
      ],
      "metadata": {
        "id": "Oj3yXqNEu5Xn"
      }
    },
    {
      "cell_type": "code",
      "source": [
        "def predict(net, x, y):\n",
        "  y_pred = net.forward(x)\n",
        "  plt.plot(x.numpy(), y.numpy(), 'o', label='Groud truth')\n",
        "  plt.plot(x.numpy(), y_pred.data.numpy(), 'o', c='r', label='Prediction');\n",
        "  plt.legend(loc='upper left')\n",
        "  plt.xlabel('$x$')\n",
        "  plt.ylabel('$y$')\n",
        "\n",
        "predict(sine_net, x_validation, y_validation)"
      ],
      "metadata": {
        "colab": {
          "base_uri": "https://localhost:8080/",
          "height": 465
        },
        "id": "BMw-j6U5u6Kp",
        "outputId": "25f947a0-34a8-4d76-b257-c50503e086b3"
      },
      "execution_count": null,
      "outputs": [
        {
          "output_type": "display_data",
          "data": {
            "text/plain": [
              "<Figure size 1300x500 with 1 Axes>"
            ],
            "image/png": "[encoded data removed]"
          },
          "metadata": {}
        }
      ]
    },
    {
      "cell_type": "markdown",
      "source": [
        "**Optimizer**"
      ],
      "metadata": {
        "id": "YIUSpHVRKYUS"
      }
    },
    {
      "cell_type": "code",
      "source": [
        "optimizer = torch.optim.Adam(sine_net.parameters(), lr=0.01)"
      ],
      "metadata": {
        "id": "YlBN3myDKcRu"
      },
      "execution_count": null,
      "outputs": []
    },
    {
      "cell_type": "markdown",
      "source": [
        "**Loss function**"
      ],
      "metadata": {
        "id": "GCQgxdFvK_sm"
      }
    },
    {
      "cell_type": "code",
      "source": [
        "def loss(pred, target):\n",
        "  squares = (pred - target) ** 2\n",
        "  return squares.mean()"
      ],
      "metadata": {
        "id": "po53TIL3LEM0"
      },
      "execution_count": null,
      "outputs": []
    },
    {
      "cell_type": "markdown",
      "source": [
        "**Training procedure**"
      ],
      "metadata": {
        "id": "oHenZzZVNnMU"
      }
    },
    {
      "cell_type": "code",
      "source": [
        "for epoch_index in range(2000):\n",
        "  optimizer.zero_grad()\n",
        "\n",
        "  y_pred = sine_net.forward(x_train)\n",
        "  loss_val = loss(y_pred, y_train)\n",
        "\n",
        "  loss_val.backward()\n",
        "\n",
        "  optimizer.step()\n",
        "\n",
        "predict(sine_net, x_validation, y_validation)"
      ],
      "metadata": {
        "colab": {
          "base_uri": "https://localhost:8080/",
          "height": 465
        },
        "id": "qblVIDyVPxPt",
        "outputId": "0bcce950-4d24-4d96-b43f-6b581311b4bf"
      },
      "execution_count": null,
      "outputs": [
        {
          "output_type": "display_data",
          "data": {
            "text/plain": [
              "<Figure size 1300x500 with 1 Axes>"
            ],
            "image/png": "[encoded data removed]"
          },
          "metadata": {}
        }
      ]
    },
    {
      "cell_type": "markdown",
      "source": [
        "# Последняя задача семинара"
      ],
      "metadata": {
        "id": "ivVCt16ieCHO"
      }
    },
    {
      "cell_type": "code",
      "source": [
        "import torch\n",
        "\n",
        "def target_function(x):\n",
        "    return 2**x * torch.sin(2**-x)\n",
        "\n",
        "class RegressionNet(torch.nn.Module):\n",
        "    def __init__(self, n_hidden_neurons):\n",
        "      super(RegressionNet, self).__init__()\n",
        "      self.fc1 = torch.nn.Linear(1, n_hidden_neurons)\n",
        "      self.act1 = torch.nn.Tanh()\n",
        "      self.fc2 = torch.nn.Linear(n_hidden_neurons, 1)\n",
        "\n",
        "    def forward(self, x):\n",
        "      x = self.fc1(x)\n",
        "      x = self.act1(x)\n",
        "      x = self.fc2(x)\n",
        "      return x\n",
        "\n",
        "net = RegressionNet(25)\n",
        "\n",
        "# ------Dataset preparation start--------:\n",
        "x_train =  torch.linspace(-10, 5, 100)\n",
        "y_train = target_function(x_train)\n",
        "noise = torch.randn(y_train.shape) / 20.\n",
        "y_train = y_train + noise\n",
        "x_train.unsqueeze_(1)\n",
        "y_train.unsqueeze_(1)\n",
        "\n",
        "x_validation = torch.linspace(-10, 5, 100)\n",
        "y_validation = target_function(x_validation)\n",
        "x_validation.unsqueeze_(1)\n",
        "y_validation.unsqueeze_(1)\n",
        "# ------Dataset preparation end--------:\n",
        "\n",
        "\n",
        "optimizer = torch.optim.Adam(net.parameters(), lr=0.01)\n",
        "\n",
        "def loss(pred, target):\n",
        "    abses = abs(pred - target)\n",
        "    return abses.mean()\n",
        "\n",
        "for epoch_index in range(2000):\n",
        "    optimizer.zero_grad()\n",
        "\n",
        "    y_pred = net.forward(x_train)\n",
        "    loss_value = loss(y_pred, y_train)\n",
        "    loss_value.backward()\n",
        "    optimizer.step()\n",
        "\n",
        "# Проверка осуществляется вызовом кода:\n",
        "def metric(pred, target):\n",
        "    return (pred - target).abs().mean()\n",
        "#\n",
        "print(metric(net.forward(x_validation), y_validation).item())\n",
        "def predict(net, x, y):\n",
        "    y_pred = net.forward(x)\n",
        "\n",
        "    plt.plot(x.numpy(), y.numpy(), 'o', label='Groud truth')\n",
        "    plt.plot(x.numpy(), y_pred.data.numpy(), 'o', c='r', label='Prediction');\n",
        "    plt.legend(loc='upper left')\n",
        "    plt.xlabel('$x$')\n",
        "    plt.ylabel('$y$')\n",
        "    plt.show()\n",
        "\n",
        "\n",
        "predict(net, x_validation, y_validation)"
      ],
      "metadata": {
        "colab": {
          "base_uri": "https://localhost:8080/",
          "height": 482
        },
        "id": "sumodFa0fYnx",
        "outputId": "6336e4be-9da7-4d60-c88b-27c5340106b0"
      },
      "execution_count": null,
      "outputs": [
        {
          "output_type": "stream",
          "name": "stdout",
          "text": [
            "0.023595402017235756\n"
          ]
        },
        {
          "output_type": "display_data",
          "data": {
            "text/plain": [
              "<Figure size 1300x500 with 1 Axes>"
            ],
            "image/png": "[encoded data removed]"
          },
          "metadata": {}
        }
      ]
    },
    {
      "cell_type": "markdown",
      "source": [
        "# Семинар: классификация в PyTorch"
      ],
      "metadata": {
        "id": "l8QyARPFyGZC"
      }
    },
    {
      "cell_type": "code",
      "source": [
        "import torch\n",
        "import random\n",
        "import numpy as np\n",
        "\n",
        "random.seed(0)\n",
        "np.random.seed(0)\n",
        "torch.manual_seed(0)\n",
        "torch.cuda.manual_seed(0)\n",
        "torch.backends.cudnn.deterministic = True"
      ],
      "metadata": {
        "id": "PHm30erJyLTP"
      },
      "execution_count": null,
      "outputs": []
    },
    {
      "cell_type": "code",
      "source": [
        "import sklearn.datasets\n",
        "wine = sklearn.datasets.load_wine()\n",
        "wine.data.shape"
      ],
      "metadata": {
        "colab": {
          "base_uri": "https://localhost:8080/"
        },
        "id": "6JPe840py54y",
        "outputId": "3f0f8f79-295f-43bc-de59-15b7578ff9b8"
      },
      "execution_count": null,
      "outputs": [
        {
          "output_type": "execute_result",
          "data": {
            "text/plain": [
              "(178, 13)"
            ]
          },
          "metadata": {},
          "execution_count": 26
        }
      ]
    },
    {
      "cell_type": "code",
      "source": [
        "from sklearn.model_selection import train_test_split\n",
        "\n",
        "X_train, X_test, y_train, y_test = train_test_split(\n",
        "    wine.data[:, :2],\n",
        "    wine.target,\n",
        "    test_size = 0.3,\n",
        "    shuffle = True)\n",
        "X_train = torch.FloatTensor(X_train)\n",
        "X_test = torch.FloatTensor(X_test)\n",
        "y_train = torch.LongTensor(y_train)\n",
        "y_test = torch.LongTensor(y_test)"
      ],
      "metadata": {
        "id": "1UYMrQ8LzAgg"
      },
      "execution_count": null,
      "outputs": []
    },
    {
      "cell_type": "code",
      "source": [
        "class WineNet(torch.nn.Module):\n",
        "  def __init__(self, n_hidden_neurons):\n",
        "    super(WineNet, self).__init__()\n",
        "\n",
        "    self.fc1 = torch.nn.Linear(2, n_hidden_neurons)\n",
        "    self.activ1 = torch.nn.Sigmoid()\n",
        "    self.fc2 = torch.nn.Linear(n_hidden_neurons, n_hidden_neurons)\n",
        "    self.activ2 = torch.nn.Sigmoid()\n",
        "    self.fc3 = torch.nn.Linear(n_hidden_neurons, 3)\n",
        "    self.sm = torch.nn.Softmax(dim = 1)\n",
        "\n",
        "  def forward(self, x):\n",
        "    x = self.fc1(x)\n",
        "    x = self.activ1(x)\n",
        "    x = self.fc2(x)\n",
        "    x = self.activ2(x)\n",
        "    x = self.fc3(x)\n",
        "    return x\n",
        "  def inference(self, x):\n",
        "    x = self.forward(x)\n",
        "    x = self.sm(x)\n",
        "    return x\n",
        "\n",
        "wine_net = WineNet(5)"
      ],
      "metadata": {
        "id": "TMxylNtw1C6e"
      },
      "execution_count": null,
      "outputs": []
    },
    {
      "cell_type": "code",
      "source": [
        "loss = torch.nn.CrossEntropyLoss()\n",
        "\n",
        "optimizer = torch.optim.Adam(wine_net.parameters(), lr = 1.0e-3)\n"
      ],
      "metadata": {
        "id": "cYxnZVku2ID_"
      },
      "execution_count": null,
      "outputs": []
    },
    {
      "cell_type": "code",
      "source": [
        "np.random.permutation(5)"
      ],
      "metadata": {
        "colab": {
          "base_uri": "https://localhost:8080/"
        },
        "id": "xH-SqmeX5RV6",
        "outputId": "60f1ed91-3a87-4615-9859-99eca69a2549"
      },
      "execution_count": null,
      "outputs": [
        {
          "output_type": "execute_result",
          "data": {
            "text/plain": [
              "array([2, 0, 1, 4, 3])"
            ]
          },
          "metadata": {},
          "execution_count": 31
        }
      ]
    },
    {
      "cell_type": "code",
      "source": [
        "batch_size = 10\n",
        "\n",
        "for epoch in range(10000):\n",
        "  order = np.random.permutation(len(X_train))\n",
        "  for start_index in range(0, len(X_train), batch_size):\n",
        "    optimizer.zero_grad()\n",
        "\n",
        "    batch_indexes = order[start_index:start_index+batch_size]\n",
        "\n",
        "    x_batch = X_train[batch_indexes]\n",
        "    y_batch = y_train[batch_indexes]\n",
        "\n",
        "    preds = wine_net.forward(x_batch)\n",
        "\n",
        "    loss_val = loss(preds, y_batch)\n",
        "    loss_val.backward()\n",
        "\n",
        "    optimizer.step()\n",
        "\n",
        "  if epoch % 100 == 0:\n",
        "    test_preds = wine_net.forward(X_test)\n",
        "    test_preds = test_preds.argmax(dim=1)\n",
        "    print((test_preds == y_test).float().mean())"
      ],
      "metadata": {
        "colab": {
          "base_uri": "https://localhost:8080/",
          "height": 1000
        },
        "id": "mT6MXNRL8C_W",
        "outputId": "b9a12031-6dc9-4cdf-9dd2-8f15326170cc"
      },
      "execution_count": null,
      "outputs": [
        {
          "output_type": "stream",
          "name": "stdout",
          "text": [
            "tensor(0.4074)\n",
            "tensor(0.4074)\n",
            "tensor(0.4630)\n",
            "tensor(0.5000)\n",
            "tensor(0.5000)\n",
            "tensor(0.3889)\n",
            "tensor(0.5000)\n",
            "tensor(0.4815)\n",
            "tensor(0.4815)\n",
            "tensor(0.4074)\n",
            "tensor(0.4630)\n",
            "tensor(0.5370)\n",
            "tensor(0.5370)\n",
            "tensor(0.5370)\n",
            "tensor(0.7222)\n",
            "tensor(0.6296)\n",
            "tensor(0.6852)\n",
            "tensor(0.6852)\n",
            "tensor(0.6852)\n",
            "tensor(0.6852)\n",
            "tensor(0.6852)\n",
            "tensor(0.7037)\n",
            "tensor(0.7222)\n",
            "tensor(0.7222)\n",
            "tensor(0.7407)\n",
            "tensor(0.7593)\n",
            "tensor(0.7593)\n",
            "tensor(0.7963)\n",
            "tensor(0.8148)\n",
            "tensor(0.8148)\n",
            "tensor(0.8148)\n",
            "tensor(0.8148)\n",
            "tensor(0.8333)\n",
            "tensor(0.8333)\n",
            "tensor(0.8333)\n",
            "tensor(0.8333)\n",
            "tensor(0.8333)\n",
            "tensor(0.8333)\n",
            "tensor(0.8519)\n"
          ]
        },
        {
          "output_type": "error",
          "ename": "KeyboardInterrupt",
          "evalue": "",
          "traceback": [
            "\u001b[0;31m---------------------------------------------------------------------------\u001b[0m",
            "\u001b[0;31mKeyboardInterrupt\u001b[0m                         Traceback (most recent call last)",
            "\u001b[0;32m<ipython-input-33-11a458d71238>\u001b[0m in \u001b[0;36m<cell line: 3>\u001b[0;34m()\u001b[0m\n\u001b[1;32m     11\u001b[0m     \u001b[0my_batch\u001b[0m \u001b[0;34m=\u001b[0m \u001b[0my_train\u001b[0m\u001b[0;34m[\u001b[0m\u001b[0mbatch_indexes\u001b[0m\u001b[0;34m]\u001b[0m\u001b[0;34m\u001b[0m\u001b[0;34m\u001b[0m\u001b[0m\n\u001b[1;32m     12\u001b[0m \u001b[0;34m\u001b[0m\u001b[0m\n\u001b[0;32m---> 13\u001b[0;31m     \u001b[0mpreds\u001b[0m \u001b[0;34m=\u001b[0m \u001b[0mwine_net\u001b[0m\u001b[0;34m.\u001b[0m\u001b[0mforward\u001b[0m\u001b[0;34m(\u001b[0m\u001b[0mx_batch\u001b[0m\u001b[0;34m)\u001b[0m\u001b[0;34m\u001b[0m\u001b[0;34m\u001b[0m\u001b[0m\n\u001b[0m\u001b[1;32m     14\u001b[0m \u001b[0;34m\u001b[0m\u001b[0m\n\u001b[1;32m     15\u001b[0m     \u001b[0mloss_val\u001b[0m \u001b[0;34m=\u001b[0m \u001b[0mloss\u001b[0m\u001b[0;34m(\u001b[0m\u001b[0mpreds\u001b[0m\u001b[0;34m,\u001b[0m \u001b[0my_batch\u001b[0m\u001b[0;34m)\u001b[0m\u001b[0;34m\u001b[0m\u001b[0;34m\u001b[0m\u001b[0m\n",
            "\u001b[0;32m<ipython-input-29-b8765b269983>\u001b[0m in \u001b[0;36mforward\u001b[0;34m(self, x)\u001b[0m\n\u001b[1;32m     11\u001b[0m \u001b[0;34m\u001b[0m\u001b[0m\n\u001b[1;32m     12\u001b[0m   \u001b[0;32mdef\u001b[0m \u001b[0mforward\u001b[0m\u001b[0;34m(\u001b[0m\u001b[0mself\u001b[0m\u001b[0;34m,\u001b[0m \u001b[0mx\u001b[0m\u001b[0;34m)\u001b[0m\u001b[0;34m:\u001b[0m\u001b[0;34m\u001b[0m\u001b[0;34m\u001b[0m\u001b[0m\n\u001b[0;32m---> 13\u001b[0;31m     \u001b[0mx\u001b[0m \u001b[0;34m=\u001b[0m \u001b[0mself\u001b[0m\u001b[0;34m.\u001b[0m\u001b[0mfc1\u001b[0m\u001b[0;34m(\u001b[0m\u001b[0mx\u001b[0m\u001b[0;34m)\u001b[0m\u001b[0;34m\u001b[0m\u001b[0;34m\u001b[0m\u001b[0m\n\u001b[0m\u001b[1;32m     14\u001b[0m     \u001b[0mx\u001b[0m \u001b[0;34m=\u001b[0m \u001b[0mself\u001b[0m\u001b[0;34m.\u001b[0m\u001b[0mactiv1\u001b[0m\u001b[0;34m(\u001b[0m\u001b[0mx\u001b[0m\u001b[0;34m)\u001b[0m\u001b[0;34m\u001b[0m\u001b[0;34m\u001b[0m\u001b[0m\n\u001b[1;32m     15\u001b[0m     \u001b[0mx\u001b[0m \u001b[0;34m=\u001b[0m \u001b[0mself\u001b[0m\u001b[0;34m.\u001b[0m\u001b[0mfc2\u001b[0m\u001b[0;34m(\u001b[0m\u001b[0mx\u001b[0m\u001b[0;34m)\u001b[0m\u001b[0;34m\u001b[0m\u001b[0;34m\u001b[0m\u001b[0m\n",
            "\u001b[0;32m/usr/local/lib/python3.10/dist-packages/torch/nn/modules/module.py\u001b[0m in \u001b[0;36m_wrapped_call_impl\u001b[0;34m(self, *args, **kwargs)\u001b[0m\n\u001b[1;32m   1516\u001b[0m             \u001b[0;32mreturn\u001b[0m \u001b[0mself\u001b[0m\u001b[0;34m.\u001b[0m\u001b[0m_compiled_call_impl\u001b[0m\u001b[0;34m(\u001b[0m\u001b[0;34m*\u001b[0m\u001b[0margs\u001b[0m\u001b[0;34m,\u001b[0m \u001b[0;34m**\u001b[0m\u001b[0mkwargs\u001b[0m\u001b[0;34m)\u001b[0m  \u001b[0;31m# type: ignore[misc]\u001b[0m\u001b[0;34m\u001b[0m\u001b[0;34m\u001b[0m\u001b[0m\n\u001b[1;32m   1517\u001b[0m         \u001b[0;32melse\u001b[0m\u001b[0;34m:\u001b[0m\u001b[0;34m\u001b[0m\u001b[0;34m\u001b[0m\u001b[0m\n\u001b[0;32m-> 1518\u001b[0;31m             \u001b[0;32mreturn\u001b[0m \u001b[0mself\u001b[0m\u001b[0;34m.\u001b[0m\u001b[0m_call_impl\u001b[0m\u001b[0;34m(\u001b[0m\u001b[0;34m*\u001b[0m\u001b[0margs\u001b[0m\u001b[0;34m,\u001b[0m \u001b[0;34m**\u001b[0m\u001b[0mkwargs\u001b[0m\u001b[0;34m)\u001b[0m\u001b[0;34m\u001b[0m\u001b[0;34m\u001b[0m\u001b[0m\n\u001b[0m\u001b[1;32m   1519\u001b[0m \u001b[0;34m\u001b[0m\u001b[0m\n\u001b[1;32m   1520\u001b[0m     \u001b[0;32mdef\u001b[0m \u001b[0m_call_impl\u001b[0m\u001b[0;34m(\u001b[0m\u001b[0mself\u001b[0m\u001b[0;34m,\u001b[0m \u001b[0;34m*\u001b[0m\u001b[0margs\u001b[0m\u001b[0;34m,\u001b[0m \u001b[0;34m**\u001b[0m\u001b[0mkwargs\u001b[0m\u001b[0;34m)\u001b[0m\u001b[0;34m:\u001b[0m\u001b[0;34m\u001b[0m\u001b[0;34m\u001b[0m\u001b[0m\n",
            "\u001b[0;32m/usr/local/lib/python3.10/dist-packages/torch/nn/modules/module.py\u001b[0m in \u001b[0;36m_call_impl\u001b[0;34m(self, *args, **kwargs)\u001b[0m\n\u001b[1;32m   1525\u001b[0m                 \u001b[0;32mor\u001b[0m \u001b[0m_global_backward_pre_hooks\u001b[0m \u001b[0;32mor\u001b[0m \u001b[0m_global_backward_hooks\u001b[0m\u001b[0;34m\u001b[0m\u001b[0;34m\u001b[0m\u001b[0m\n\u001b[1;32m   1526\u001b[0m                 or _global_forward_hooks or _global_forward_pre_hooks):\n\u001b[0;32m-> 1527\u001b[0;31m             \u001b[0;32mreturn\u001b[0m \u001b[0mforward_call\u001b[0m\u001b[0;34m(\u001b[0m\u001b[0;34m*\u001b[0m\u001b[0margs\u001b[0m\u001b[0;34m,\u001b[0m \u001b[0;34m**\u001b[0m\u001b[0mkwargs\u001b[0m\u001b[0;34m)\u001b[0m\u001b[0;34m\u001b[0m\u001b[0;34m\u001b[0m\u001b[0m\n\u001b[0m\u001b[1;32m   1528\u001b[0m \u001b[0;34m\u001b[0m\u001b[0m\n\u001b[1;32m   1529\u001b[0m         \u001b[0;32mtry\u001b[0m\u001b[0;34m:\u001b[0m\u001b[0;34m\u001b[0m\u001b[0;34m\u001b[0m\u001b[0m\n",
            "\u001b[0;32m/usr/local/lib/python3.10/dist-packages/torch/nn/modules/linear.py\u001b[0m in \u001b[0;36mforward\u001b[0;34m(self, input)\u001b[0m\n\u001b[1;32m    112\u001b[0m \u001b[0;34m\u001b[0m\u001b[0m\n\u001b[1;32m    113\u001b[0m     \u001b[0;32mdef\u001b[0m \u001b[0mforward\u001b[0m\u001b[0;34m(\u001b[0m\u001b[0mself\u001b[0m\u001b[0;34m,\u001b[0m \u001b[0minput\u001b[0m\u001b[0;34m:\u001b[0m \u001b[0mTensor\u001b[0m\u001b[0;34m)\u001b[0m \u001b[0;34m->\u001b[0m \u001b[0mTensor\u001b[0m\u001b[0;34m:\u001b[0m\u001b[0;34m\u001b[0m\u001b[0;34m\u001b[0m\u001b[0m\n\u001b[0;32m--> 114\u001b[0;31m         \u001b[0;32mreturn\u001b[0m \u001b[0mF\u001b[0m\u001b[0;34m.\u001b[0m\u001b[0mlinear\u001b[0m\u001b[0;34m(\u001b[0m\u001b[0minput\u001b[0m\u001b[0;34m,\u001b[0m \u001b[0mself\u001b[0m\u001b[0;34m.\u001b[0m\u001b[0mweight\u001b[0m\u001b[0;34m,\u001b[0m \u001b[0mself\u001b[0m\u001b[0;34m.\u001b[0m\u001b[0mbias\u001b[0m\u001b[0;34m)\u001b[0m\u001b[0;34m\u001b[0m\u001b[0;34m\u001b[0m\u001b[0m\n\u001b[0m\u001b[1;32m    115\u001b[0m \u001b[0;34m\u001b[0m\u001b[0m\n\u001b[1;32m    116\u001b[0m     \u001b[0;32mdef\u001b[0m \u001b[0mextra_repr\u001b[0m\u001b[0;34m(\u001b[0m\u001b[0mself\u001b[0m\u001b[0;34m)\u001b[0m \u001b[0;34m->\u001b[0m \u001b[0mstr\u001b[0m\u001b[0;34m:\u001b[0m\u001b[0;34m\u001b[0m\u001b[0;34m\u001b[0m\u001b[0m\n",
            "\u001b[0;31mKeyboardInterrupt\u001b[0m: "
          ]
        }
      ]
    },
    {
      "cell_type": "code",
      "source": [
        "import matplotlib.pyplot as plt\n",
        "%matplotlib inline\n",
        "\n",
        "plt.rcParams['figure.figsize'] = (10, 8)\n",
        "\n",
        "n_classes = 3\n",
        "plot_colors = ['g', 'orange', 'black']\n",
        "plot_step = 0.02\n",
        "\n",
        "x_min, x_max = X_train[:, 0].min() - 1, X_train[:, 0].max() + 1\n",
        "y_min, y_max = X_train[:, 1].min() - 1, X_train[:, 1].max() + 1\n",
        "\n",
        "xx, yy = torch.meshgrid(torch.arange(x_min, x_max, plot_step), torch.arange(y_min, y_max, plot_step))\n",
        "\n",
        "preds = wine_net.inference(torch.cat([xx.reshape(-1, 1), yy.reshape(-1, 1)], dim=1))\n",
        "\n",
        "preds_class = preds.data.numpy().argmax(axis=1)\n",
        "preds_class = preds_class.reshape(xx.shape)\n",
        "plt.contourf(xx, yy, preds_class, cmap='Accent')\n",
        "\n",
        "for i, color in zip(range(n_classes), plot_colors):\n",
        "  indexes = np.where(y_train == i)\n",
        "  plt.scatter(X_train[indexes, 0],\n",
        "              X_train[indexes, 1],\n",
        "              c=color,\n",
        "              label=wine.target_names[i],\n",
        "              cmap=\"Accent\")\n",
        "  plt.xlabel(wine.feature_names[0])\n",
        "  plt.ylabel(wine.feature_names[1])\n",
        "  plt.legend()"
      ],
      "metadata": {
        "colab": {
          "base_uri": "https://localhost:8080/",
          "height": 820
        },
        "id": "WDI82pKxEIrY",
        "outputId": "7171d3d3-2fb2-4fa8-d7bc-41f04871327c"
      },
      "execution_count": null,
      "outputs": [
        {
          "output_type": "stream",
          "name": "stderr",
          "text": [
            "/usr/local/lib/python3.10/dist-packages/torch/functional.py:504: UserWarning: torch.meshgrid: in an upcoming release, it will be required to pass the indexing argument. (Triggered internally at ../aten/src/ATen/native/TensorShape.cpp:3526.)\n",
            "  return _VF.meshgrid(tensors, **kwargs)  # type: ignore[attr-defined]\n",
            "<ipython-input-34-0be2941ba013>:23: UserWarning: Creating a tensor from a list of numpy.ndarrays is extremely slow. Please consider converting the list to a single numpy.ndarray with numpy.array() before converting to a tensor. (Triggered internally at ../torch/csrc/utils/tensor_new.cpp:261.)\n",
            "  plt.scatter(X_train[indexes, 0],\n",
            "<ipython-input-34-0be2941ba013>:23: UserWarning: No data for colormapping provided via 'c'. Parameters 'cmap' will be ignored\n",
            "  plt.scatter(X_train[indexes, 0],\n"
          ]
        },
        {
          "output_type": "display_data",
          "data": {
            "text/plain": [
              "<Figure size 1000x800 with 1 Axes>"
            ],
            "image/png": "[encoded data removed]"
          },
          "metadata": {}
        }
      ]
    },
    {
      "cell_type": "markdown",
      "source": [
        "# Семинар: Классификация рукописных чисел полносвязанной сетью"
      ],
      "metadata": {
        "id": "7hwcbghYJQQ-"
      }
    },
    {
      "cell_type": "code",
      "source": [
        "import torch\n",
        "import random\n",
        "import numpy as np\n",
        "\n",
        "random.seed(0)\n",
        "np.random.seed(0)\n",
        "torch.manual_seed(0)\n",
        "torch.cuda.manual_seed(0)\n",
        "torch.backends.cudnn.deterministic = True"
      ],
      "metadata": {
        "id": "y5MvVGCmJXQU"
      },
      "execution_count": null,
      "outputs": []
    },
    {
      "cell_type": "code",
      "source": [
        "import torchvision.datasets\n",
        "MNIST_train = torchvision.datasets.MNIST('./', download=True, train=True)\n",
        "MNIST_test = torchvision.datasets.MNIST('./', download=True, train=False)"
      ],
      "metadata": {
        "colab": {
          "base_uri": "https://localhost:8080/"
        },
        "id": "48AAXXwDJYH4",
        "outputId": "34994932-d4df-4730-bfdb-e988720ff8a4"
      },
      "execution_count": null,
      "outputs": [
        {
          "output_type": "stream",
          "name": "stdout",
          "text": [
            "Downloading http://yann.lecun.com/exdb/mnist/train-images-idx3-ubyte.gz\n",
            "Downloading http://yann.lecun.com/exdb/mnist/train-images-idx3-ubyte.gz to ./MNIST/raw/train-images-idx3-ubyte.gz\n"
          ]
        },
        {
          "output_type": "stream",
          "name": "stderr",
          "text": [
            "100%|██████████| 9912422/9912422 [00:00<00:00, 192461433.12it/s]\n"
          ]
        },
        {
          "output_type": "stream",
          "name": "stdout",
          "text": [
            "Extracting ./MNIST/raw/train-images-idx3-ubyte.gz to ./MNIST/raw\n",
            "\n",
            "Downloading http://yann.lecun.com/exdb/mnist/train-labels-idx1-ubyte.gz\n",
            "Downloading http://yann.lecun.com/exdb/mnist/train-labels-idx1-ubyte.gz to ./MNIST/raw/train-labels-idx1-ubyte.gz\n"
          ]
        },
        {
          "output_type": "stream",
          "name": "stderr",
          "text": [
            "100%|██████████| 28881/28881 [00:00<00:00, 83484282.44it/s]\n"
          ]
        },
        {
          "output_type": "stream",
          "name": "stdout",
          "text": [
            "Extracting ./MNIST/raw/train-labels-idx1-ubyte.gz to ./MNIST/raw\n",
            "\n",
            "Downloading http://yann.lecun.com/exdb/mnist/t10k-images-idx3-ubyte.gz\n",
            "Downloading http://yann.lecun.com/exdb/mnist/t10k-images-idx3-ubyte.gz to ./MNIST/raw/t10k-images-idx3-ubyte.gz\n"
          ]
        },
        {
          "output_type": "stream",
          "name": "stderr",
          "text": [
            "100%|██████████| 1648877/1648877 [00:00<00:00, 68430133.05it/s]"
          ]
        },
        {
          "output_type": "stream",
          "name": "stdout",
          "text": [
            "Extracting ./MNIST/raw/t10k-images-idx3-ubyte.gz to ./MNIST/raw\n"
          ]
        },
        {
          "output_type": "stream",
          "name": "stderr",
          "text": [
            "\n"
          ]
        },
        {
          "output_type": "stream",
          "name": "stdout",
          "text": [
            "\n",
            "Downloading http://yann.lecun.com/exdb/mnist/t10k-labels-idx1-ubyte.gz\n",
            "Downloading http://yann.lecun.com/exdb/mnist/t10k-labels-idx1-ubyte.gz to ./MNIST/raw/t10k-labels-idx1-ubyte.gz\n"
          ]
        },
        {
          "output_type": "stream",
          "name": "stderr",
          "text": [
            "100%|██████████| 4542/4542 [00:00<00:00, 13568752.68it/s]"
          ]
        },
        {
          "output_type": "stream",
          "name": "stdout",
          "text": [
            "Extracting ./MNIST/raw/t10k-labels-idx1-ubyte.gz to ./MNIST/raw\n",
            "\n"
          ]
        },
        {
          "output_type": "stream",
          "name": "stderr",
          "text": [
            "\n"
          ]
        }
      ]
    },
    {
      "cell_type": "code",
      "source": [
        "X_train = MNIST_train.train_data\n",
        "y_train = MNIST_train.train_labels\n",
        "X_test = MNIST_test.test_data\n",
        "y_test = MNIST_test.test_labels"
      ],
      "metadata": {
        "colab": {
          "base_uri": "https://localhost:8080/"
        },
        "id": "_XSHiutiTIz7",
        "outputId": "283a40ec-6a5e-4f0c-d418-8f6307a1f0ee"
      },
      "execution_count": null,
      "outputs": [
        {
          "output_type": "stream",
          "name": "stderr",
          "text": [
            "/usr/local/lib/python3.10/dist-packages/torchvision/datasets/mnist.py:75: UserWarning: train_data has been renamed data\n",
            "  warnings.warn(\"train_data has been renamed data\")\n",
            "/usr/local/lib/python3.10/dist-packages/torchvision/datasets/mnist.py:65: UserWarning: train_labels has been renamed targets\n",
            "  warnings.warn(\"train_labels has been renamed targets\")\n",
            "/usr/local/lib/python3.10/dist-packages/torchvision/datasets/mnist.py:80: UserWarning: test_data has been renamed data\n",
            "  warnings.warn(\"test_data has been renamed data\")\n",
            "/usr/local/lib/python3.10/dist-packages/torchvision/datasets/mnist.py:70: UserWarning: test_labels has been renamed targets\n",
            "  warnings.warn(\"test_labels has been renamed targets\")\n"
          ]
        }
      ]
    },
    {
      "cell_type": "code",
      "source": [
        "X_train.dtype, y_train.dtype"
      ],
      "metadata": {
        "colab": {
          "base_uri": "https://localhost:8080/"
        },
        "id": "V5Zug7yEUTwa",
        "outputId": "09f3a6f5-263f-4e4d-95c5-2095de47cdc1"
      },
      "execution_count": null,
      "outputs": [
        {
          "output_type": "execute_result",
          "data": {
            "text/plain": [
              "(torch.uint8, torch.int64)"
            ]
          },
          "metadata": {},
          "execution_count": 4
        }
      ]
    },
    {
      "cell_type": "code",
      "source": [
        "X_train = X_train.float()\n",
        "X_test = X_test.float()"
      ],
      "metadata": {
        "id": "k7so533VU2NJ"
      },
      "execution_count": null,
      "outputs": []
    },
    {
      "cell_type": "code",
      "source": [
        "X_train.shape, X_test.shape"
      ],
      "metadata": {
        "colab": {
          "base_uri": "https://localhost:8080/"
        },
        "id": "BhdcuJleU8P1",
        "outputId": "d84da917-2b6d-48f5-8443-832d349d995d"
      },
      "execution_count": null,
      "outputs": [
        {
          "output_type": "execute_result",
          "data": {
            "text/plain": [
              "(torch.Size([60000, 28, 28]), torch.Size([10000, 28, 28]))"
            ]
          },
          "metadata": {},
          "execution_count": 6
        }
      ]
    },
    {
      "cell_type": "code",
      "source": [
        "y_train.shape, y_test.shape"
      ],
      "metadata": {
        "colab": {
          "base_uri": "https://localhost:8080/"
        },
        "id": "47w04kdWU_30",
        "outputId": "29c86fda-d193-4634-f35f-eaa3bc23ed94"
      },
      "execution_count": null,
      "outputs": [
        {
          "output_type": "execute_result",
          "data": {
            "text/plain": [
              "(torch.Size([60000]), torch.Size([10000]))"
            ]
          },
          "metadata": {},
          "execution_count": 7
        }
      ]
    },
    {
      "cell_type": "code",
      "source": [
        "import matplotlib.pyplot as plt\n",
        "plt.imshow(X_train[0, :, :])\n",
        "plt.show()\n",
        "print(y_train[0])"
      ],
      "metadata": {
        "colab": {
          "base_uri": "https://localhost:8080/",
          "height": 447
        },
        "id": "tTFFhJJKV4ZH",
        "outputId": "6af67996-4b31-4a94-c201-1c42ea8d7789"
      },
      "execution_count": null,
      "outputs": [
        {
          "output_type": "display_data",
          "data": {
            "text/plain": [
              "<Figure size 640x480 with 1 Axes>"
            ],
            "image/png": "[encoded data removed]"
          },
          "metadata": {}
        },
        {
          "output_type": "stream",
          "name": "stdout",
          "text": [
            "tensor(5)\n"
          ]
        }
      ]
    },
    {
      "cell_type": "code",
      "source": [
        "X_train = X_train.reshape([-1, 28 * 28])\n",
        "X_test = X_test.reshape([-1, 28 * 28])"
      ],
      "metadata": {
        "id": "6bM998YMWD1V"
      },
      "execution_count": null,
      "outputs": []
    },
    {
      "cell_type": "code",
      "source": [
        "class MNISTNet(torch.nn.Module):\n",
        "  def __init__(self, n_hidden_neurons):\n",
        "    super(MNISTNet, self).__init__()\n",
        "    self.fc1 = torch.nn.Linear(28 * 28, n_hidden_neurons)\n",
        "    self.ac1 = torch.nn.Sigmoid()\n",
        "    self.fc2 = torch.nn.Linear(n_hidden_neurons, 10)\n",
        "\n",
        "  def forward(self, x):\n",
        "    x = self.fc1(x)\n",
        "    x = self.ac1(x)\n",
        "    x = self.fc2(x)\n",
        "    return x\n",
        "\n",
        "mnist_net = MNISTNet(100)"
      ],
      "metadata": {
        "id": "OPBSMON3WRvW"
      },
      "execution_count": null,
      "outputs": []
    },
    {
      "cell_type": "code",
      "source": [
        "torch.cuda.is_available()"
      ],
      "metadata": {
        "colab": {
          "base_uri": "https://localhost:8080/"
        },
        "id": "ZKoI4USicP7B",
        "outputId": "a9c0d63b-576d-43a7-9240-d788967471e6"
      },
      "execution_count": null,
      "outputs": [
        {
          "output_type": "execute_result",
          "data": {
            "text/plain": [
              "False"
            ]
          },
          "metadata": {},
          "execution_count": 11
        }
      ]
    },
    {
      "cell_type": "code",
      "source": [
        "!nvidia-smi"
      ],
      "metadata": {
        "colab": {
          "base_uri": "https://localhost:8080/"
        },
        "id": "KjRhzKO-c28k",
        "outputId": "1db7e8fa-b841-4236-8320-783db154b51d"
      },
      "execution_count": null,
      "outputs": [
        {
          "output_type": "stream",
          "name": "stdout",
          "text": [
            "/bin/bash: line 1: nvidia-smi: command not found\n"
          ]
        }
      ]
    },
    {
      "cell_type": "code",
      "source": [
        "device = torch.device('cuda:0' if torch.cuda.is_available() else 'cpu')\n",
        "mnist_net = mnist_net.to(device)\n",
        "list(mnist_net.parameters())"
      ],
      "metadata": {
        "colab": {
          "base_uri": "https://localhost:8080/"
        },
        "id": "frF9GcCfc5GD",
        "outputId": "77dbaf34-2e64-4f52-bde7-09cc56b5c25c"
      },
      "execution_count": null,
      "outputs": [
        {
          "output_type": "execute_result",
          "data": {
            "text/plain": [
              "[Parameter containing:\n",
              " tensor([[-0.0003,  0.0192, -0.0294,  ...,  0.0219,  0.0037,  0.0021],\n",
              "         [-0.0198, -0.0150, -0.0104,  ..., -0.0203, -0.0060, -0.0299],\n",
              "         [-0.0201,  0.0149, -0.0333,  ..., -0.0203,  0.0012,  0.0080],\n",
              "         ...,\n",
              "         [ 0.0221,  0.0258, -0.0088,  ..., -0.0141,  0.0051, -0.0318],\n",
              "         [-0.0217, -0.0136,  0.0185,  ..., -0.0012, -0.0012, -0.0017],\n",
              "         [ 0.0142,  0.0089, -0.0053,  ...,  0.0311, -0.0181,  0.0020]],\n",
              "        requires_grad=True),\n",
              " Parameter containing:\n",
              " tensor([-3.5402e-02,  1.8178e-02, -2.1709e-02, -1.1839e-02,  4.8722e-03,\n",
              "         -1.0492e-02, -1.9008e-02,  2.6994e-02, -3.4899e-02,  1.0381e-02,\n",
              "         -3.5228e-02, -5.6381e-03, -2.0134e-02, -3.0264e-02, -1.3289e-02,\n",
              "          2.5346e-02, -1.0797e-02,  2.1568e-03,  4.3630e-03, -2.1916e-02,\n",
              "          2.2670e-02, -1.5766e-02,  3.4906e-02, -2.3063e-02, -6.8216e-03,\n",
              "          2.7051e-02, -1.3991e-02,  9.7218e-03, -9.9075e-04,  1.6625e-03,\n",
              "          2.3455e-02, -2.5294e-02,  4.8024e-06, -2.5339e-02, -1.7412e-02,\n",
              "         -1.6342e-02,  2.6164e-03, -1.8025e-02,  2.5939e-02,  2.3884e-03,\n",
              "          1.1857e-03, -2.0811e-03, -1.4417e-03,  2.2246e-02, -2.7703e-02,\n",
              "          1.9103e-02,  1.7750e-02, -4.5987e-03, -5.7228e-03,  1.1429e-02,\n",
              "         -1.9616e-02,  1.0336e-04,  2.3019e-02, -1.9994e-02,  1.5292e-03,\n",
              "         -3.4574e-02, -2.8799e-02,  1.0611e-02, -1.4141e-02, -2.3886e-02,\n",
              "          2.2307e-02, -3.0040e-02, -2.8897e-02, -9.2013e-03, -3.6146e-03,\n",
              "          3.4074e-03,  7.3265e-03, -1.7886e-02, -1.8164e-02, -1.9736e-02,\n",
              "         -3.0381e-02, -1.5204e-02,  2.4328e-02, -2.2534e-02,  4.2453e-04,\n",
              "          2.7948e-02,  1.3828e-03,  3.3543e-02, -3.3373e-02, -6.0236e-04,\n",
              "          1.1359e-02,  3.2776e-02, -3.6375e-03, -2.7758e-02, -4.0390e-03,\n",
              "         -1.8094e-03, -2.1388e-02,  1.8606e-03, -1.4006e-02, -2.9517e-02,\n",
              "         -1.6692e-02, -7.7352e-03, -1.9986e-02,  1.8643e-02, -2.0421e-02,\n",
              "          1.1466e-02, -2.7346e-02,  2.3264e-03, -3.3796e-02,  1.1720e-02],\n",
              "        requires_grad=True),\n",
              " Parameter containing:\n",
              " tensor([[-4.4030e-02, -4.0902e-02, -2.7658e-03, -7.5691e-02,  4.7223e-02,\n",
              "           2.0091e-02,  5.2066e-03,  2.9781e-02,  2.0557e-02, -3.9398e-02,\n",
              "          -4.3418e-02, -4.2620e-02,  2.0538e-02, -6.9487e-02, -1.0267e-03,\n",
              "           6.5385e-02, -2.4658e-03,  8.2882e-02,  5.6582e-02, -9.1259e-02,\n",
              "          -8.1402e-02,  9.4457e-02,  4.5791e-02, -9.5087e-02,  1.7097e-02,\n",
              "           4.3891e-02,  3.8794e-02,  2.8788e-02,  2.2401e-02, -6.5288e-02,\n",
              "           4.3317e-02,  2.0658e-02, -8.5607e-02, -5.5555e-02,  6.7581e-02,\n",
              "          -3.3979e-03,  9.5181e-02,  5.3261e-02, -5.3859e-02,  7.1806e-03,\n",
              "          -8.9716e-02, -5.7855e-02, -9.5984e-02, -8.0224e-02, -3.1562e-03,\n",
              "          -6.7034e-02, -9.0357e-02, -7.6925e-02, -8.4575e-02,  3.1875e-02,\n",
              "          -3.9122e-02,  2.7084e-02, -3.2642e-02, -3.9497e-02, -7.0178e-03,\n",
              "          -1.7398e-02,  5.8693e-02, -5.4878e-02,  4.2710e-02, -7.1184e-02,\n",
              "          -2.8224e-02, -4.4826e-02,  1.3082e-02,  4.7396e-02,  4.2165e-02,\n",
              "          -1.4485e-02,  6.3214e-02, -1.7163e-02, -5.6876e-02,  7.2040e-02,\n",
              "           4.9951e-02,  1.3729e-02,  1.6482e-02,  6.9580e-02, -8.0455e-03,\n",
              "           2.9021e-02,  5.1953e-03, -8.5754e-02, -7.1343e-02, -9.8854e-02,\n",
              "          -1.2864e-02, -8.1402e-02, -8.8800e-02, -7.0611e-02, -8.5149e-02,\n",
              "           2.2577e-02, -1.7917e-02,  3.4979e-02,  3.6967e-02,  2.0696e-03,\n",
              "          -4.5241e-02, -5.2543e-02,  8.7695e-02, -9.6897e-02, -4.1911e-02,\n",
              "           8.3253e-02,  1.9033e-02,  8.5772e-02, -9.1113e-02, -4.6074e-02],\n",
              "         [ 2.8562e-02, -9.7789e-02,  9.9616e-02,  1.0313e-02,  1.8937e-03,\n",
              "          -2.8054e-02,  5.7647e-02,  7.5185e-03, -7.6182e-02,  4.7473e-02,\n",
              "           9.2353e-02,  8.7539e-02,  4.3655e-02, -8.8865e-02,  5.0226e-02,\n",
              "           2.9909e-02, -9.6574e-02, -3.5466e-02, -9.3904e-02, -4.4798e-02,\n",
              "          -3.3621e-02, -6.5826e-02,  3.6287e-02, -3.3913e-02, -8.2384e-02,\n",
              "          -8.0630e-02, -3.6251e-02,  3.2257e-02, -1.7082e-02,  6.7202e-03,\n",
              "           4.9823e-02,  8.7775e-02, -5.6468e-02,  9.9253e-02,  9.1745e-02,\n",
              "           6.8144e-02,  6.4052e-02,  4.7919e-02, -9.1159e-02,  6.4923e-02,\n",
              "           6.1755e-04,  2.4259e-02, -5.2861e-02, -8.0466e-02, -7.4763e-02,\n",
              "          -2.4290e-02,  8.2725e-02, -5.2735e-02, -1.6988e-02,  8.4985e-03,\n",
              "          -6.6479e-02, -6.3317e-02,  2.7013e-02,  7.6525e-02, -9.6293e-02,\n",
              "          -2.3882e-02, -2.4638e-02, -1.5677e-02,  8.6723e-02,  1.1229e-02,\n",
              "          -3.8456e-02, -9.1262e-03, -1.0519e-02, -9.5751e-02, -1.0230e-02,\n",
              "           2.0495e-02,  1.0166e-02,  1.6618e-02, -7.6543e-02, -1.9185e-02,\n",
              "           3.6591e-03, -4.8461e-02, -3.9484e-02,  4.6251e-02,  6.8032e-02,\n",
              "          -6.6524e-02, -1.0022e-02, -4.8116e-02, -9.9494e-02, -7.2708e-02,\n",
              "           4.8695e-02, -5.4311e-02,  5.3059e-02, -5.1349e-02, -5.3362e-02,\n",
              "           5.6112e-04,  5.6536e-02,  7.5848e-02,  8.7638e-02, -2.6691e-02,\n",
              "           5.4360e-02, -9.7876e-02, -2.8115e-03,  7.7884e-03,  7.6152e-03,\n",
              "           2.9289e-02,  5.4671e-02,  6.9147e-02, -2.9804e-03, -5.5532e-02],\n",
              "         [-5.8062e-02, -1.6233e-02,  5.9640e-02,  3.8012e-02, -7.7325e-02,\n",
              "           5.2889e-02,  4.9676e-02, -8.6207e-02,  1.2076e-02, -6.6163e-02,\n",
              "          -8.3880e-02,  1.7198e-02, -3.7479e-02,  8.4232e-02, -5.0198e-02,\n",
              "           2.3431e-02, -2.2310e-02, -6.4360e-02, -2.8851e-02,  3.1953e-02,\n",
              "           3.2718e-02, -1.6766e-02, -9.4292e-02, -1.6340e-02,  4.0565e-02,\n",
              "          -5.5432e-02,  4.2336e-02,  9.1535e-02, -7.2934e-02,  7.0494e-02,\n",
              "          -7.4497e-02,  1.4436e-02, -5.1857e-03,  7.7257e-02,  2.4613e-02,\n",
              "          -2.3095e-02, -4.3948e-03,  1.7421e-02, -3.5985e-02,  1.2784e-02,\n",
              "          -6.0356e-02, -1.7307e-02, -2.0917e-03,  3.3032e-02, -6.1410e-02,\n",
              "           7.9608e-02,  2.7768e-02, -3.4363e-02, -6.1100e-02, -3.1468e-02,\n",
              "          -3.9813e-02,  3.5793e-02,  2.9954e-03,  1.8687e-02, -7.1464e-02,\n",
              "           1.8687e-02,  6.9480e-02,  8.6372e-02, -5.5390e-02,  1.6557e-02,\n",
              "           1.9878e-02,  8.0226e-02, -2.1137e-02,  9.2464e-02, -2.0413e-02,\n",
              "          -9.3492e-02,  9.0216e-02, -9.9643e-03, -4.5676e-02, -7.2762e-02,\n",
              "           9.5185e-02, -3.5671e-02, -5.7421e-02,  9.6054e-02, -1.0582e-02,\n",
              "           3.5247e-02,  4.4829e-04,  6.2995e-02, -7.0383e-02,  5.9155e-02,\n",
              "           9.5140e-02, -6.1451e-02,  7.1062e-02, -3.1055e-02,  6.2909e-02,\n",
              "           9.0056e-02, -5.9558e-02, -6.3497e-02, -7.2795e-02,  6.3794e-02,\n",
              "          -7.1646e-02, -5.9375e-03,  9.2007e-02, -2.3524e-02,  6.7093e-02,\n",
              "          -9.6363e-02,  8.5956e-02, -5.4083e-02,  4.6875e-02, -7.0707e-02],\n",
              "         [-9.9884e-02, -2.0566e-03, -9.2505e-03,  1.2660e-05,  5.7482e-02,\n",
              "           9.8647e-02,  5.9621e-02, -5.6918e-02, -2.3541e-02,  8.5597e-02,\n",
              "           3.2887e-02, -1.2115e-02,  6.3024e-02, -4.1736e-03,  1.5560e-02,\n",
              "          -3.6098e-02, -2.9918e-02,  9.7293e-02, -3.3788e-02,  6.5262e-02,\n",
              "          -6.2560e-03,  8.2679e-02, -3.4145e-02, -4.2508e-02,  9.3023e-02,\n",
              "           1.6028e-02, -7.6950e-02,  6.5384e-02,  6.1429e-02,  7.9440e-02,\n",
              "          -2.2314e-02, -8.0422e-02, -2.0729e-02, -4.6973e-02, -8.5903e-02,\n",
              "           8.3461e-02,  5.4504e-03,  6.4838e-02, -4.3093e-02, -1.4715e-02,\n",
              "           9.2161e-02, -1.6137e-02,  4.7117e-02,  4.8628e-02,  4.7408e-02,\n",
              "          -9.9202e-02, -9.7989e-02,  4.2185e-02,  6.1507e-02,  9.3029e-02,\n",
              "           2.3039e-02, -8.1951e-02,  4.2035e-02,  5.3145e-02,  1.7351e-02,\n",
              "           2.6871e-02,  3.6373e-02, -4.5585e-02, -7.1108e-02, -6.8185e-03,\n",
              "          -8.1368e-02,  4.8340e-02,  1.8260e-02, -7.0928e-02, -3.2509e-02,\n",
              "           3.3479e-02, -8.1458e-02,  7.4082e-03,  7.0904e-02, -8.2055e-02,\n",
              "          -4.5267e-02, -9.7422e-02,  6.2716e-02,  3.1780e-02,  2.6002e-02,\n",
              "           3.5429e-02, -2.8131e-02, -7.5722e-02,  8.6744e-02,  6.9950e-02,\n",
              "          -4.4811e-03, -3.7405e-02,  8.7347e-02,  2.9528e-02,  2.4509e-02,\n",
              "          -7.9858e-02,  1.0490e-03,  8.5361e-02, -6.4963e-03,  8.6767e-02,\n",
              "           1.9172e-03, -4.7197e-02, -9.4302e-02, -1.1154e-04,  4.4796e-02,\n",
              "           9.0297e-02, -4.5391e-02, -8.2952e-03, -8.3752e-04,  1.0406e-02],\n",
              "         [-8.3833e-02, -1.6800e-02, -1.8120e-02,  2.4787e-02,  1.5949e-02,\n",
              "          -3.6587e-02, -4.0931e-02, -2.8362e-02, -6.2916e-02,  9.5074e-04,\n",
              "           3.7527e-02, -7.5627e-02, -9.0116e-02, -4.8229e-02,  4.8008e-02,\n",
              "          -8.3595e-02, -7.4236e-02, -7.7821e-02, -6.1297e-02, -1.0876e-02,\n",
              "          -7.7140e-02,  9.9012e-02, -5.8988e-02,  9.1224e-02,  8.5215e-02,\n",
              "          -6.2058e-02, -9.7728e-02,  6.1797e-02,  8.5920e-02, -4.6782e-02,\n",
              "           4.5797e-02, -3.4127e-02, -2.6734e-02,  5.0654e-02,  8.0230e-02,\n",
              "          -6.8283e-04,  4.4868e-02,  9.9643e-02, -7.7270e-03, -6.9289e-03,\n",
              "           7.8843e-02, -6.2620e-02,  4.6331e-02,  3.5543e-02,  4.4476e-02,\n",
              "           6.4701e-02,  5.5111e-02, -1.3538e-02, -5.7666e-02,  3.1949e-02,\n",
              "          -7.4435e-02, -1.0555e-02, -2.9269e-02,  7.6828e-02,  6.0613e-02,\n",
              "          -1.0246e-02, -7.7053e-02, -8.1615e-02,  7.8583e-02, -3.7298e-02,\n",
              "           9.8287e-02, -8.7990e-02,  8.5202e-02,  7.3779e-02, -7.5497e-02,\n",
              "          -5.0194e-02,  1.7486e-02, -8.1503e-02,  4.3283e-02,  3.1912e-02,\n",
              "           3.3300e-02,  8.4082e-02, -1.5393e-02, -1.0400e-02, -5.7354e-02,\n",
              "           6.4003e-02,  7.5777e-02,  8.7583e-02,  1.0506e-02, -1.0069e-02,\n",
              "           4.6248e-02,  6.8776e-02,  9.1238e-02,  8.2242e-02, -6.3215e-02,\n",
              "          -2.2493e-03,  5.6948e-02, -1.4380e-02,  9.5676e-02,  9.8546e-02,\n",
              "           3.5439e-02, -6.1159e-02, -3.4391e-02,  4.1154e-02, -4.9081e-02,\n",
              "          -8.1823e-02, -1.6583e-02, -7.9054e-02, -8.9295e-02,  6.5986e-02],\n",
              "         [-4.6052e-02, -5.7329e-02, -6.9434e-02,  8.0967e-02, -1.9942e-02,\n",
              "          -5.2907e-02,  3.7663e-03, -6.5540e-02,  7.4881e-03, -7.2165e-02,\n",
              "          -5.0907e-03,  5.9958e-02,  7.3126e-02,  7.8212e-02,  9.5219e-02,\n",
              "          -5.8539e-02, -5.7033e-02,  5.0800e-02,  2.9198e-02,  5.7162e-02,\n",
              "           5.8643e-02,  2.4181e-02,  9.6798e-02, -7.2006e-02, -4.8288e-02,\n",
              "           9.8164e-02, -1.4304e-02,  8.4005e-02, -4.1074e-02,  4.0151e-03,\n",
              "          -2.9527e-02,  8.0418e-02,  4.4058e-02,  1.3534e-02,  2.5140e-02,\n",
              "           2.1768e-02, -9.8031e-02, -6.6325e-02, -3.6608e-02,  2.1682e-02,\n",
              "           8.6108e-02, -5.5307e-02,  2.1730e-02,  2.3178e-02, -2.4123e-02,\n",
              "          -6.6951e-03, -7.9058e-02,  8.1677e-02, -1.8746e-02, -3.1030e-02,\n",
              "           1.0893e-02, -5.3572e-02, -6.3206e-02, -2.8532e-02,  4.3749e-02,\n",
              "          -5.8695e-02,  9.5919e-03, -9.0220e-03,  6.0012e-02, -5.8548e-03,\n",
              "          -1.3501e-02,  7.4022e-02, -9.2908e-02, -1.4278e-02,  5.1928e-02,\n",
              "          -9.1766e-02,  7.3883e-02,  9.7954e-02,  2.0665e-02, -4.6826e-02,\n",
              "           3.8851e-02, -3.2427e-02, -2.0750e-02, -6.1963e-02, -6.8082e-02,\n",
              "           5.1893e-02,  7.8080e-02,  2.3663e-02,  9.9957e-02, -1.9962e-02,\n",
              "          -8.7717e-02, -5.7643e-02,  6.9828e-02,  1.4412e-02,  4.3624e-02,\n",
              "          -6.7853e-02, -8.7193e-02, -7.1548e-02, -5.8304e-02,  9.1487e-02,\n",
              "           8.0201e-02, -3.5304e-02,  5.6775e-02,  8.3264e-02,  6.6919e-02,\n",
              "           3.7993e-02,  5.4683e-03, -3.5126e-02,  6.6001e-03,  2.9616e-02],\n",
              "         [ 9.1658e-02,  9.4709e-02,  1.5736e-02,  2.2302e-02,  4.6048e-02,\n",
              "           1.2184e-02,  4.9628e-03,  7.0882e-02, -1.3095e-03,  6.4723e-02,\n",
              "           7.9142e-02,  1.6253e-02, -1.9196e-02,  4.3337e-02, -5.8832e-02,\n",
              "          -3.2178e-02, -6.3990e-02,  4.7409e-02, -2.7614e-02,  1.7234e-02,\n",
              "          -1.0813e-02, -1.4974e-02,  2.3524e-02,  8.9089e-02, -3.2056e-02,\n",
              "           7.2992e-02, -6.9731e-02,  8.7564e-02, -8.0852e-02, -6.2523e-02,\n",
              "          -7.4421e-02,  4.1387e-02, -7.6536e-02, -4.0783e-02, -6.2073e-02,\n",
              "          -1.3144e-03,  7.2717e-02,  8.8049e-02,  9.7246e-03,  7.4112e-02,\n",
              "          -8.7396e-02,  2.9497e-02,  5.1279e-02, -7.4738e-02, -3.1917e-02,\n",
              "           4.6675e-02, -5.1561e-02, -6.6640e-03,  6.4942e-03,  7.4746e-02,\n",
              "           9.1743e-02,  2.8841e-02, -1.4908e-02, -7.4951e-02,  6.2403e-03,\n",
              "           2.7113e-02, -5.0571e-02,  1.4710e-02,  6.0440e-02, -7.6236e-02,\n",
              "           9.0964e-02,  4.2240e-02, -6.1111e-03, -2.5226e-02,  3.2602e-02,\n",
              "          -7.5661e-02,  8.3860e-03, -4.4427e-02, -6.7322e-02,  4.4364e-02,\n",
              "           5.9016e-02,  8.1961e-02,  3.3115e-02, -4.0448e-02, -7.3765e-02,\n",
              "           9.2396e-02, -4.5676e-02,  9.7899e-02,  3.1652e-02, -9.1355e-03,\n",
              "          -7.1571e-02, -1.3682e-02,  7.2462e-02, -4.6750e-02,  6.0865e-02,\n",
              "          -4.6380e-02, -8.9269e-02,  6.8284e-02,  3.6599e-02, -4.0685e-02,\n",
              "           5.8471e-02,  7.1903e-02,  4.0558e-02,  8.0305e-02,  8.1107e-02,\n",
              "          -8.6739e-02, -9.7542e-02,  6.3673e-02, -9.2271e-02, -1.9315e-02],\n",
              "         [-4.6198e-02, -3.2290e-02, -3.0544e-02, -9.5010e-02,  3.8223e-02,\n",
              "           5.5294e-02,  4.9098e-02,  7.6608e-02, -8.0285e-02,  6.2018e-02,\n",
              "          -5.3086e-02,  3.0058e-02, -2.2902e-03, -6.1048e-03, -4.9441e-02,\n",
              "          -5.9305e-02,  3.3375e-03,  3.5207e-02,  6.2350e-02, -4.4059e-02,\n",
              "          -8.4517e-04, -8.6304e-02,  5.4937e-02, -6.0786e-02,  3.9300e-02,\n",
              "          -7.0746e-03,  7.5575e-03,  1.6690e-02,  9.7747e-02, -9.1711e-02,\n",
              "           6.9647e-02, -4.7292e-02,  6.8328e-02,  7.7011e-02, -1.1921e-02,\n",
              "           8.2020e-02,  8.4751e-02,  3.6825e-03,  9.3275e-02, -2.9666e-02,\n",
              "          -9.1267e-02, -8.1389e-02,  3.3100e-02,  6.4213e-02,  8.2357e-02,\n",
              "           5.5568e-02,  6.8318e-02, -1.3603e-02,  2.9641e-04,  8.3104e-02,\n",
              "          -2.4244e-02,  4.1599e-02, -2.7592e-02, -4.9556e-02,  5.1370e-02,\n",
              "          -9.9622e-02,  4.8358e-02, -3.7282e-04, -7.3551e-03, -6.0729e-02,\n",
              "           9.5725e-02,  1.6859e-02,  1.2552e-02,  8.2822e-02, -5.8674e-03,\n",
              "           6.0212e-02,  9.1049e-02, -4.2251e-02,  9.4969e-04,  9.7892e-02,\n",
              "          -5.9672e-02,  6.4663e-02, -6.1649e-02, -7.8423e-02, -9.9728e-02,\n",
              "           1.5248e-02,  7.8801e-03,  4.2608e-03,  1.0335e-02, -9.8835e-02,\n",
              "          -2.1486e-02, -5.8640e-03, -5.1451e-02,  2.8623e-02,  7.4678e-02,\n",
              "           5.7444e-02, -9.5587e-04,  9.2813e-02, -8.9171e-02,  6.2987e-02,\n",
              "           4.5349e-02,  3.2147e-02,  6.9089e-02,  9.8212e-02,  9.4147e-02,\n",
              "          -9.4832e-02,  8.1579e-02, -7.1328e-02, -1.0579e-02,  2.5450e-02],\n",
              "         [-2.0891e-02, -6.0200e-03,  2.5615e-02, -1.7990e-02, -4.4823e-02,\n",
              "           2.3133e-02,  2.7158e-02, -2.7425e-02, -8.8589e-02,  5.5512e-03,\n",
              "          -6.2966e-02,  8.8285e-02,  1.2188e-02,  3.6578e-02,  6.4057e-02,\n",
              "           2.6910e-02,  8.8557e-02, -4.2429e-02, -4.2300e-02, -8.4609e-02,\n",
              "           7.7359e-02,  4.4733e-02, -5.5614e-03,  2.1624e-02,  4.7043e-02,\n",
              "          -8.8673e-02,  1.0857e-03, -9.5129e-02,  6.8912e-02, -2.1803e-02,\n",
              "           2.6299e-02, -5.5845e-02,  2.7732e-02, -1.0555e-02, -4.8043e-02,\n",
              "          -5.9004e-02,  7.6596e-02, -6.0483e-02, -7.3551e-02, -6.5031e-02,\n",
              "           2.0799e-02, -7.2074e-02, -4.2507e-02,  5.0316e-02,  7.6159e-02,\n",
              "           3.6825e-02,  1.6714e-02, -9.0212e-02,  1.8672e-02,  2.7955e-02,\n",
              "          -1.2733e-02, -4.5933e-02,  5.4120e-02, -1.3092e-02, -8.3096e-02,\n",
              "           7.8286e-02,  8.5046e-02,  8.6231e-02,  2.0992e-02,  1.5767e-02,\n",
              "          -3.1872e-02,  5.8948e-02, -1.4357e-02,  5.2033e-02,  3.7963e-02,\n",
              "           5.1407e-02, -7.3431e-02,  5.3929e-02,  2.0105e-02,  9.9624e-02,\n",
              "          -1.7876e-02,  6.0013e-02, -5.3841e-02, -3.8886e-02, -3.2458e-02,\n",
              "           2.0245e-02, -1.2786e-02, -7.3796e-02, -5.1257e-02, -9.3105e-02,\n",
              "           5.3524e-02,  2.9062e-02,  6.2409e-02,  1.5023e-02,  5.3282e-02,\n",
              "           6.6994e-02,  5.3158e-02, -8.6123e-02, -8.5278e-02,  6.5582e-02,\n",
              "          -4.3465e-02,  4.4255e-02, -4.5839e-02,  5.9404e-02,  6.6008e-02,\n",
              "           6.7964e-02, -2.4449e-02, -7.3628e-02,  8.2040e-02,  7.7660e-02],\n",
              "         [-9.8090e-02,  2.3876e-02, -8.2799e-02, -7.0161e-02,  1.3677e-02,\n",
              "           6.1290e-02, -4.8976e-04, -2.8927e-03,  6.0759e-02, -8.4032e-03,\n",
              "          -3.1913e-02,  7.0797e-02,  8.9694e-02,  7.0325e-02,  6.5696e-02,\n",
              "          -1.5075e-02, -6.6608e-02,  7.0226e-02, -9.6515e-02, -1.0970e-02,\n",
              "          -7.4666e-02,  2.0471e-03,  7.9205e-02, -5.1160e-02, -8.5243e-02,\n",
              "          -8.7755e-02, -4.8625e-02,  6.3410e-02,  4.8973e-02, -3.0467e-02,\n",
              "           5.1149e-02, -6.8542e-04, -5.4671e-02,  7.0579e-02, -1.1052e-02,\n",
              "           3.7288e-02,  1.3069e-03,  6.5359e-02, -4.5996e-02,  1.3190e-03,\n",
              "           7.8334e-02, -3.5620e-02, -9.9353e-02, -3.0465e-03, -6.0722e-02,\n",
              "          -9.8107e-02, -3.9692e-02,  9.0779e-02, -2.8267e-02, -9.7357e-02,\n",
              "           6.7107e-02,  1.4171e-02,  6.0091e-02, -4.2909e-03,  6.2227e-02,\n",
              "           2.0596e-02, -9.5249e-03,  7.1651e-02, -9.0290e-02,  5.0313e-02,\n",
              "           7.2475e-02, -7.2112e-02,  8.7810e-02, -8.1037e-02, -2.8049e-02,\n",
              "           7.4033e-02, -6.5308e-02,  9.4824e-02, -7.8563e-03,  2.1731e-02,\n",
              "           5.2775e-02,  3.0641e-03, -5.3218e-02,  6.5832e-02,  6.4242e-03,\n",
              "           7.5386e-02,  9.0389e-02,  3.9998e-02, -7.2098e-03,  4.1883e-02,\n",
              "          -6.8180e-03, -3.5155e-02,  8.9635e-02, -3.1142e-02,  5.8973e-02,\n",
              "           9.9291e-02, -6.8097e-02, -7.9742e-02, -6.8372e-02,  7.2811e-02,\n",
              "           9.2736e-02, -5.7095e-02,  3.8777e-02, -2.4662e-03, -4.7575e-02,\n",
              "          -4.8032e-02, -2.5639e-02,  7.4412e-02, -8.6548e-02, -4.4684e-02]],\n",
              "        requires_grad=True),\n",
              " Parameter containing:\n",
              " tensor([ 0.0935, -0.0211, -0.0509,  0.0983,  0.0549,  0.0581, -0.0937, -0.0555,\n",
              "          0.0050, -0.0360], requires_grad=True)]"
            ]
          },
          "metadata": {},
          "execution_count": 13
        }
      ]
    },
    {
      "cell_type": "code",
      "source": [
        "loss = torch.nn.CrossEntropyLoss()\n",
        "optimizer = torch.optim.Adam(mnist_net.parameters(), lr=1.0e-3)"
      ],
      "metadata": {
        "id": "Sz1vMSUpZwnD"
      },
      "execution_count": null,
      "outputs": []
    },
    {
      "cell_type": "code",
      "source": [
        "batch_size = 100\n",
        "\n",
        "test_accuracy_history = []\n",
        "test_loss_history = []\n",
        "\n",
        "X_test = X_test.to(device)\n",
        "y_test = y_test.to(device)\n",
        "\n",
        "for epoch in range(10000):\n",
        "  order = np.random.permutation(len(X_train))\n",
        "\n",
        "  for start_index in range(0, len(X_train), batch_size):\n",
        "    optimizer.zero_grad()\n",
        "\n",
        "    batch_indexes = order[start_index:start_index+batch_size]\n",
        "\n",
        "    X_batch = X_train[batch_indexes].to(device)\n",
        "    y_batch = y_train[batch_indexes].to(device)\n",
        "\n",
        "    preds = mnist_net.forward(X_batch)\n",
        "\n",
        "    loss_value = loss(preds, y_batch)\n",
        "    loss_value.backward()\n",
        "\n",
        "    optimizer.step()\n",
        "\n",
        "  test_preds = mnist_net.forward(X_test)\n",
        "  test_loss_history.append(loss(test_preds, y_test))\n",
        "\n",
        "  accuracy = (test_preds.argmax(dim=1) == y_test).float().mean()\n",
        "  test_accuracy_history.append(accuracy)\n",
        "  print(accuracy)"
      ],
      "metadata": {
        "colab": {
          "base_uri": "https://localhost:8080/",
          "height": 807
        },
        "id": "cBMmzWQgaXBo",
        "outputId": "a76f595c-ffe7-4a7a-b515-08f74af5b0f9"
      },
      "execution_count": null,
      "outputs": [
        {
          "output_type": "stream",
          "name": "stdout",
          "text": [
            "tensor(0.9091)\n",
            "tensor(0.9176)\n",
            "tensor(0.9197)\n",
            "tensor(0.9212)\n",
            "tensor(0.9271)\n",
            "tensor(0.9299)\n",
            "tensor(0.9263)\n",
            "tensor(0.9299)\n",
            "tensor(0.9324)\n",
            "tensor(0.9330)\n",
            "tensor(0.9296)\n",
            "tensor(0.9330)\n",
            "tensor(0.9311)\n",
            "tensor(0.9371)\n",
            "tensor(0.9405)\n",
            "tensor(0.9424)\n",
            "tensor(0.9365)\n",
            "tensor(0.9340)\n",
            "tensor(0.9370)\n",
            "tensor(0.9396)\n",
            "tensor(0.9370)\n",
            "tensor(0.9325)\n",
            "tensor(0.9378)\n",
            "tensor(0.9418)\n",
            "tensor(0.9404)\n"
          ]
        },
        {
          "output_type": "error",
          "ename": "KeyboardInterrupt",
          "evalue": "",
          "traceback": [
            "\u001b[0;31m---------------------------------------------------------------------------\u001b[0m",
            "\u001b[0;31mKeyboardInterrupt\u001b[0m                         Traceback (most recent call last)",
            "\u001b[0;32m<ipython-input-15-b128f4009b4d>\u001b[0m in \u001b[0;36m<cell line: 9>\u001b[0;34m()\u001b[0m\n\u001b[1;32m     23\u001b[0m     \u001b[0mloss_value\u001b[0m\u001b[0;34m.\u001b[0m\u001b[0mbackward\u001b[0m\u001b[0;34m(\u001b[0m\u001b[0;34m)\u001b[0m\u001b[0;34m\u001b[0m\u001b[0;34m\u001b[0m\u001b[0m\n\u001b[1;32m     24\u001b[0m \u001b[0;34m\u001b[0m\u001b[0m\n\u001b[0;32m---> 25\u001b[0;31m     \u001b[0moptimizer\u001b[0m\u001b[0;34m.\u001b[0m\u001b[0mstep\u001b[0m\u001b[0;34m(\u001b[0m\u001b[0;34m)\u001b[0m\u001b[0;34m\u001b[0m\u001b[0;34m\u001b[0m\u001b[0m\n\u001b[0m\u001b[1;32m     26\u001b[0m \u001b[0;34m\u001b[0m\u001b[0m\n\u001b[1;32m     27\u001b[0m   \u001b[0mtest_preds\u001b[0m \u001b[0;34m=\u001b[0m \u001b[0mmnist_net\u001b[0m\u001b[0;34m.\u001b[0m\u001b[0mforward\u001b[0m\u001b[0;34m(\u001b[0m\u001b[0mX_test\u001b[0m\u001b[0;34m)\u001b[0m\u001b[0;34m\u001b[0m\u001b[0;34m\u001b[0m\u001b[0m\n",
            "\u001b[0;32m/usr/local/lib/python3.10/dist-packages/torch/optim/optimizer.py\u001b[0m in \u001b[0;36mwrapper\u001b[0;34m(*args, **kwargs)\u001b[0m\n\u001b[1;32m    371\u001b[0m                             )\n\u001b[1;32m    372\u001b[0m \u001b[0;34m\u001b[0m\u001b[0m\n\u001b[0;32m--> 373\u001b[0;31m                 \u001b[0mout\u001b[0m \u001b[0;34m=\u001b[0m \u001b[0mfunc\u001b[0m\u001b[0;34m(\u001b[0m\u001b[0;34m*\u001b[0m\u001b[0margs\u001b[0m\u001b[0;34m,\u001b[0m \u001b[0;34m**\u001b[0m\u001b[0mkwargs\u001b[0m\u001b[0;34m)\u001b[0m\u001b[0;34m\u001b[0m\u001b[0;34m\u001b[0m\u001b[0m\n\u001b[0m\u001b[1;32m    374\u001b[0m                 \u001b[0mself\u001b[0m\u001b[0;34m.\u001b[0m\u001b[0m_optimizer_step_code\u001b[0m\u001b[0;34m(\u001b[0m\u001b[0;34m)\u001b[0m\u001b[0;34m\u001b[0m\u001b[0;34m\u001b[0m\u001b[0m\n\u001b[1;32m    375\u001b[0m \u001b[0;34m\u001b[0m\u001b[0m\n",
            "\u001b[0;32m/usr/local/lib/python3.10/dist-packages/torch/optim/optimizer.py\u001b[0m in \u001b[0;36m_use_grad\u001b[0;34m(self, *args, **kwargs)\u001b[0m\n\u001b[1;32m     74\u001b[0m             \u001b[0mtorch\u001b[0m\u001b[0;34m.\u001b[0m\u001b[0mset_grad_enabled\u001b[0m\u001b[0;34m(\u001b[0m\u001b[0mself\u001b[0m\u001b[0;34m.\u001b[0m\u001b[0mdefaults\u001b[0m\u001b[0;34m[\u001b[0m\u001b[0;34m'differentiable'\u001b[0m\u001b[0;34m]\u001b[0m\u001b[0;34m)\u001b[0m\u001b[0;34m\u001b[0m\u001b[0;34m\u001b[0m\u001b[0m\n\u001b[1;32m     75\u001b[0m             \u001b[0mtorch\u001b[0m\u001b[0;34m.\u001b[0m\u001b[0m_dynamo\u001b[0m\u001b[0;34m.\u001b[0m\u001b[0mgraph_break\u001b[0m\u001b[0;34m(\u001b[0m\u001b[0;34m)\u001b[0m\u001b[0;34m\u001b[0m\u001b[0;34m\u001b[0m\u001b[0m\n\u001b[0;32m---> 76\u001b[0;31m             \u001b[0mret\u001b[0m \u001b[0;34m=\u001b[0m \u001b[0mfunc\u001b[0m\u001b[0;34m(\u001b[0m\u001b[0mself\u001b[0m\u001b[0;34m,\u001b[0m \u001b[0;34m*\u001b[0m\u001b[0margs\u001b[0m\u001b[0;34m,\u001b[0m \u001b[0;34m**\u001b[0m\u001b[0mkwargs\u001b[0m\u001b[0;34m)\u001b[0m\u001b[0;34m\u001b[0m\u001b[0;34m\u001b[0m\u001b[0m\n\u001b[0m\u001b[1;32m     77\u001b[0m         \u001b[0;32mfinally\u001b[0m\u001b[0;34m:\u001b[0m\u001b[0;34m\u001b[0m\u001b[0;34m\u001b[0m\u001b[0m\n\u001b[1;32m     78\u001b[0m             \u001b[0mtorch\u001b[0m\u001b[0;34m.\u001b[0m\u001b[0m_dynamo\u001b[0m\u001b[0;34m.\u001b[0m\u001b[0mgraph_break\u001b[0m\u001b[0;34m(\u001b[0m\u001b[0;34m)\u001b[0m\u001b[0;34m\u001b[0m\u001b[0;34m\u001b[0m\u001b[0m\n",
            "\u001b[0;32m/usr/local/lib/python3.10/dist-packages/torch/optim/adam.py\u001b[0m in \u001b[0;36mstep\u001b[0;34m(self, closure)\u001b[0m\n\u001b[1;32m    161\u001b[0m                 state_steps)\n\u001b[1;32m    162\u001b[0m \u001b[0;34m\u001b[0m\u001b[0m\n\u001b[0;32m--> 163\u001b[0;31m             adam(\n\u001b[0m\u001b[1;32m    164\u001b[0m                 \u001b[0mparams_with_grad\u001b[0m\u001b[0;34m,\u001b[0m\u001b[0;34m\u001b[0m\u001b[0;34m\u001b[0m\u001b[0m\n\u001b[1;32m    165\u001b[0m                 \u001b[0mgrads\u001b[0m\u001b[0;34m,\u001b[0m\u001b[0;34m\u001b[0m\u001b[0;34m\u001b[0m\u001b[0m\n",
            "\u001b[0;32m/usr/local/lib/python3.10/dist-packages/torch/optim/adam.py\u001b[0m in \u001b[0;36madam\u001b[0;34m(params, grads, exp_avgs, exp_avg_sqs, max_exp_avg_sqs, state_steps, foreach, capturable, differentiable, fused, grad_scale, found_inf, amsgrad, beta1, beta2, lr, weight_decay, eps, maximize)\u001b[0m\n\u001b[1;32m    309\u001b[0m         \u001b[0mfunc\u001b[0m \u001b[0;34m=\u001b[0m \u001b[0m_single_tensor_adam\u001b[0m\u001b[0;34m\u001b[0m\u001b[0;34m\u001b[0m\u001b[0m\n\u001b[1;32m    310\u001b[0m \u001b[0;34m\u001b[0m\u001b[0m\n\u001b[0;32m--> 311\u001b[0;31m     func(params,\n\u001b[0m\u001b[1;32m    312\u001b[0m          \u001b[0mgrads\u001b[0m\u001b[0;34m,\u001b[0m\u001b[0;34m\u001b[0m\u001b[0;34m\u001b[0m\u001b[0m\n\u001b[1;32m    313\u001b[0m          \u001b[0mexp_avgs\u001b[0m\u001b[0;34m,\u001b[0m\u001b[0;34m\u001b[0m\u001b[0;34m\u001b[0m\u001b[0m\n",
            "\u001b[0;32m/usr/local/lib/python3.10/dist-packages/torch/optim/adam.py\u001b[0m in \u001b[0;36m_single_tensor_adam\u001b[0;34m(params, grads, exp_avgs, exp_avg_sqs, max_exp_avg_sqs, state_steps, grad_scale, found_inf, amsgrad, beta1, beta2, lr, weight_decay, eps, maximize, capturable, differentiable)\u001b[0m\n\u001b[1;32m    430\u001b[0m                 \u001b[0mdenom\u001b[0m \u001b[0;34m=\u001b[0m \u001b[0;34m(\u001b[0m\u001b[0mmax_exp_avg_sqs\u001b[0m\u001b[0;34m[\u001b[0m\u001b[0mi\u001b[0m\u001b[0;34m]\u001b[0m\u001b[0;34m.\u001b[0m\u001b[0msqrt\u001b[0m\u001b[0;34m(\u001b[0m\u001b[0;34m)\u001b[0m \u001b[0;34m/\u001b[0m \u001b[0mbias_correction2_sqrt\u001b[0m\u001b[0;34m)\u001b[0m\u001b[0;34m.\u001b[0m\u001b[0madd_\u001b[0m\u001b[0;34m(\u001b[0m\u001b[0meps\u001b[0m\u001b[0;34m)\u001b[0m\u001b[0;34m\u001b[0m\u001b[0;34m\u001b[0m\u001b[0m\n\u001b[1;32m    431\u001b[0m             \u001b[0;32melse\u001b[0m\u001b[0;34m:\u001b[0m\u001b[0;34m\u001b[0m\u001b[0;34m\u001b[0m\u001b[0m\n\u001b[0;32m--> 432\u001b[0;31m                 \u001b[0mdenom\u001b[0m \u001b[0;34m=\u001b[0m \u001b[0;34m(\u001b[0m\u001b[0mexp_avg_sq\u001b[0m\u001b[0;34m.\u001b[0m\u001b[0msqrt\u001b[0m\u001b[0;34m(\u001b[0m\u001b[0;34m)\u001b[0m \u001b[0;34m/\u001b[0m \u001b[0mbias_correction2_sqrt\u001b[0m\u001b[0;34m)\u001b[0m\u001b[0;34m.\u001b[0m\u001b[0madd_\u001b[0m\u001b[0;34m(\u001b[0m\u001b[0meps\u001b[0m\u001b[0;34m)\u001b[0m\u001b[0;34m\u001b[0m\u001b[0;34m\u001b[0m\u001b[0m\n\u001b[0m\u001b[1;32m    433\u001b[0m \u001b[0;34m\u001b[0m\u001b[0m\n\u001b[1;32m    434\u001b[0m             \u001b[0mparam\u001b[0m\u001b[0;34m.\u001b[0m\u001b[0maddcdiv_\u001b[0m\u001b[0;34m(\u001b[0m\u001b[0mexp_avg\u001b[0m\u001b[0;34m,\u001b[0m \u001b[0mdenom\u001b[0m\u001b[0;34m,\u001b[0m \u001b[0mvalue\u001b[0m\u001b[0;34m=\u001b[0m\u001b[0;34m-\u001b[0m\u001b[0mstep_size\u001b[0m\u001b[0;34m)\u001b[0m\u001b[0;34m\u001b[0m\u001b[0;34m\u001b[0m\u001b[0m\n",
            "\u001b[0;31mKeyboardInterrupt\u001b[0m: "
          ]
        }
      ]
    },
    {
      "cell_type": "code",
      "source": [
        "# plt.plot(test_accuracy_history)\n",
        "# plt.plot(test_loss_history)"
      ],
      "metadata": {
        "colab": {
          "base_uri": "https://localhost:8080/",
          "height": 722
        },
        "id": "Pk_nUiiVhrOY",
        "outputId": "e4d8b083-9798-4197-d0ce-8b02f22b5021"
      },
      "execution_count": null,
      "outputs": [
        {
          "output_type": "error",
          "ename": "RuntimeError",
          "evalue": "Can't call numpy() on Tensor that requires grad. Use tensor.detach().numpy() instead.",
          "traceback": [
            "\u001b[0;31m---------------------------------------------------------------------------\u001b[0m",
            "\u001b[0;31mRuntimeError\u001b[0m                              Traceback (most recent call last)",
            "\u001b[0;32m<ipython-input-17-d32aea47af91>\u001b[0m in \u001b[0;36m<cell line: 2>\u001b[0;34m()\u001b[0m\n\u001b[1;32m      1\u001b[0m \u001b[0;31m# plt.plot(test_accuracy_history)\u001b[0m\u001b[0;34m\u001b[0m\u001b[0;34m\u001b[0m\u001b[0m\n\u001b[0;32m----> 2\u001b[0;31m \u001b[0mplt\u001b[0m\u001b[0;34m.\u001b[0m\u001b[0mplot\u001b[0m\u001b[0;34m(\u001b[0m\u001b[0mtest_loss_history\u001b[0m\u001b[0;34m)\u001b[0m\u001b[0;34m\u001b[0m\u001b[0;34m\u001b[0m\u001b[0m\n\u001b[0m",
            "\u001b[0;32m/usr/local/lib/python3.10/dist-packages/matplotlib/pyplot.py\u001b[0m in \u001b[0;36mplot\u001b[0;34m(scalex, scaley, data, *args, **kwargs)\u001b[0m\n\u001b[1;32m   2810\u001b[0m \u001b[0;34m@\u001b[0m\u001b[0m_copy_docstring_and_deprecators\u001b[0m\u001b[0;34m(\u001b[0m\u001b[0mAxes\u001b[0m\u001b[0;34m.\u001b[0m\u001b[0mplot\u001b[0m\u001b[0;34m)\u001b[0m\u001b[0;34m\u001b[0m\u001b[0;34m\u001b[0m\u001b[0m\n\u001b[1;32m   2811\u001b[0m \u001b[0;32mdef\u001b[0m \u001b[0mplot\u001b[0m\u001b[0;34m(\u001b[0m\u001b[0;34m*\u001b[0m\u001b[0margs\u001b[0m\u001b[0;34m,\u001b[0m \u001b[0mscalex\u001b[0m\u001b[0;34m=\u001b[0m\u001b[0;32mTrue\u001b[0m\u001b[0;34m,\u001b[0m \u001b[0mscaley\u001b[0m\u001b[0;34m=\u001b[0m\u001b[0;32mTrue\u001b[0m\u001b[0;34m,\u001b[0m \u001b[0mdata\u001b[0m\u001b[0;34m=\u001b[0m\u001b[0;32mNone\u001b[0m\u001b[0;34m,\u001b[0m \u001b[0;34m**\u001b[0m\u001b[0mkwargs\u001b[0m\u001b[0;34m)\u001b[0m\u001b[0;34m:\u001b[0m\u001b[0;34m\u001b[0m\u001b[0;34m\u001b[0m\u001b[0m\n\u001b[0;32m-> 2812\u001b[0;31m     return gca().plot(\n\u001b[0m\u001b[1;32m   2813\u001b[0m         \u001b[0;34m*\u001b[0m\u001b[0margs\u001b[0m\u001b[0;34m,\u001b[0m \u001b[0mscalex\u001b[0m\u001b[0;34m=\u001b[0m\u001b[0mscalex\u001b[0m\u001b[0;34m,\u001b[0m \u001b[0mscaley\u001b[0m\u001b[0;34m=\u001b[0m\u001b[0mscaley\u001b[0m\u001b[0;34m,\u001b[0m\u001b[0;34m\u001b[0m\u001b[0;34m\u001b[0m\u001b[0m\n\u001b[1;32m   2814\u001b[0m         **({\"data\": data} if data is not None else {}), **kwargs)\n",
            "\u001b[0;32m/usr/local/lib/python3.10/dist-packages/matplotlib/axes/_axes.py\u001b[0m in \u001b[0;36mplot\u001b[0;34m(self, scalex, scaley, data, *args, **kwargs)\u001b[0m\n\u001b[1;32m   1686\u001b[0m         \"\"\"\n\u001b[1;32m   1687\u001b[0m         \u001b[0mkwargs\u001b[0m \u001b[0;34m=\u001b[0m \u001b[0mcbook\u001b[0m\u001b[0;34m.\u001b[0m\u001b[0mnormalize_kwargs\u001b[0m\u001b[0;34m(\u001b[0m\u001b[0mkwargs\u001b[0m\u001b[0;34m,\u001b[0m \u001b[0mmlines\u001b[0m\u001b[0;34m.\u001b[0m\u001b[0mLine2D\u001b[0m\u001b[0;34m)\u001b[0m\u001b[0;34m\u001b[0m\u001b[0;34m\u001b[0m\u001b[0m\n\u001b[0;32m-> 1688\u001b[0;31m         \u001b[0mlines\u001b[0m \u001b[0;34m=\u001b[0m \u001b[0;34m[\u001b[0m\u001b[0;34m*\u001b[0m\u001b[0mself\u001b[0m\u001b[0;34m.\u001b[0m\u001b[0m_get_lines\u001b[0m\u001b[0;34m(\u001b[0m\u001b[0;34m*\u001b[0m\u001b[0margs\u001b[0m\u001b[0;34m,\u001b[0m \u001b[0mdata\u001b[0m\u001b[0;34m=\u001b[0m\u001b[0mdata\u001b[0m\u001b[0;34m,\u001b[0m \u001b[0;34m**\u001b[0m\u001b[0mkwargs\u001b[0m\u001b[0;34m)\u001b[0m\u001b[0;34m]\u001b[0m\u001b[0;34m\u001b[0m\u001b[0;34m\u001b[0m\u001b[0m\n\u001b[0m\u001b[1;32m   1689\u001b[0m         \u001b[0;32mfor\u001b[0m \u001b[0mline\u001b[0m \u001b[0;32min\u001b[0m \u001b[0mlines\u001b[0m\u001b[0;34m:\u001b[0m\u001b[0;34m\u001b[0m\u001b[0;34m\u001b[0m\u001b[0m\n\u001b[1;32m   1690\u001b[0m             \u001b[0mself\u001b[0m\u001b[0;34m.\u001b[0m\u001b[0madd_line\u001b[0m\u001b[0;34m(\u001b[0m\u001b[0mline\u001b[0m\u001b[0;34m)\u001b[0m\u001b[0;34m\u001b[0m\u001b[0;34m\u001b[0m\u001b[0m\n",
            "\u001b[0;32m/usr/local/lib/python3.10/dist-packages/matplotlib/axes/_base.py\u001b[0m in \u001b[0;36m__call__\u001b[0;34m(self, data, *args, **kwargs)\u001b[0m\n\u001b[1;32m    309\u001b[0m                 \u001b[0mthis\u001b[0m \u001b[0;34m+=\u001b[0m \u001b[0margs\u001b[0m\u001b[0;34m[\u001b[0m\u001b[0;36m0\u001b[0m\u001b[0;34m]\u001b[0m\u001b[0;34m,\u001b[0m\u001b[0;34m\u001b[0m\u001b[0;34m\u001b[0m\u001b[0m\n\u001b[1;32m    310\u001b[0m                 \u001b[0margs\u001b[0m \u001b[0;34m=\u001b[0m \u001b[0margs\u001b[0m\u001b[0;34m[\u001b[0m\u001b[0;36m1\u001b[0m\u001b[0;34m:\u001b[0m\u001b[0;34m]\u001b[0m\u001b[0;34m\u001b[0m\u001b[0;34m\u001b[0m\u001b[0m\n\u001b[0;32m--> 311\u001b[0;31m             yield from self._plot_args(\n\u001b[0m\u001b[1;32m    312\u001b[0m                 this, kwargs, ambiguous_fmt_datakey=ambiguous_fmt_datakey)\n\u001b[1;32m    313\u001b[0m \u001b[0;34m\u001b[0m\u001b[0m\n",
            "\u001b[0;32m/usr/local/lib/python3.10/dist-packages/matplotlib/axes/_base.py\u001b[0m in \u001b[0;36m_plot_args\u001b[0;34m(self, tup, kwargs, return_kwargs, ambiguous_fmt_datakey)\u001b[0m\n\u001b[1;32m    494\u001b[0m             \u001b[0my\u001b[0m \u001b[0;34m=\u001b[0m \u001b[0m_check_1d\u001b[0m\u001b[0;34m(\u001b[0m\u001b[0mxy\u001b[0m\u001b[0;34m[\u001b[0m\u001b[0;36m1\u001b[0m\u001b[0;34m]\u001b[0m\u001b[0;34m)\u001b[0m\u001b[0;34m\u001b[0m\u001b[0;34m\u001b[0m\u001b[0m\n\u001b[1;32m    495\u001b[0m         \u001b[0;32melse\u001b[0m\u001b[0;34m:\u001b[0m\u001b[0;34m\u001b[0m\u001b[0;34m\u001b[0m\u001b[0m\n\u001b[0;32m--> 496\u001b[0;31m             \u001b[0mx\u001b[0m\u001b[0;34m,\u001b[0m \u001b[0my\u001b[0m \u001b[0;34m=\u001b[0m \u001b[0mindex_of\u001b[0m\u001b[0;34m(\u001b[0m\u001b[0mxy\u001b[0m\u001b[0;34m[\u001b[0m\u001b[0;34m-\u001b[0m\u001b[0;36m1\u001b[0m\u001b[0;34m]\u001b[0m\u001b[0;34m)\u001b[0m\u001b[0;34m\u001b[0m\u001b[0;34m\u001b[0m\u001b[0m\n\u001b[0m\u001b[1;32m    497\u001b[0m \u001b[0;34m\u001b[0m\u001b[0m\n\u001b[1;32m    498\u001b[0m         \u001b[0;32mif\u001b[0m \u001b[0mself\u001b[0m\u001b[0;34m.\u001b[0m\u001b[0maxes\u001b[0m\u001b[0;34m.\u001b[0m\u001b[0mxaxis\u001b[0m \u001b[0;32mis\u001b[0m \u001b[0;32mnot\u001b[0m \u001b[0;32mNone\u001b[0m\u001b[0;34m:\u001b[0m\u001b[0;34m\u001b[0m\u001b[0;34m\u001b[0m\u001b[0m\n",
            "\u001b[0;32m/usr/local/lib/python3.10/dist-packages/matplotlib/cbook/__init__.py\u001b[0m in \u001b[0;36mindex_of\u001b[0;34m(y)\u001b[0m\n\u001b[1;32m   1654\u001b[0m         \u001b[0;32mpass\u001b[0m\u001b[0;34m\u001b[0m\u001b[0;34m\u001b[0m\u001b[0m\n\u001b[1;32m   1655\u001b[0m     \u001b[0;32mtry\u001b[0m\u001b[0;34m:\u001b[0m\u001b[0;34m\u001b[0m\u001b[0;34m\u001b[0m\u001b[0m\n\u001b[0;32m-> 1656\u001b[0;31m         \u001b[0my\u001b[0m \u001b[0;34m=\u001b[0m \u001b[0m_check_1d\u001b[0m\u001b[0;34m(\u001b[0m\u001b[0my\u001b[0m\u001b[0;34m)\u001b[0m\u001b[0;34m\u001b[0m\u001b[0;34m\u001b[0m\u001b[0m\n\u001b[0m\u001b[1;32m   1657\u001b[0m     \u001b[0;32mexcept\u001b[0m \u001b[0;34m(\u001b[0m\u001b[0mnp\u001b[0m\u001b[0;34m.\u001b[0m\u001b[0mVisibleDeprecationWarning\u001b[0m\u001b[0;34m,\u001b[0m \u001b[0mValueError\u001b[0m\u001b[0;34m)\u001b[0m\u001b[0;34m:\u001b[0m\u001b[0;34m\u001b[0m\u001b[0;34m\u001b[0m\u001b[0m\n\u001b[1;32m   1658\u001b[0m         \u001b[0;31m# NumPy 1.19 will warn on ragged input, and we can't actually use it.\u001b[0m\u001b[0;34m\u001b[0m\u001b[0;34m\u001b[0m\u001b[0m\n",
            "\u001b[0;32m/usr/local/lib/python3.10/dist-packages/matplotlib/cbook/__init__.py\u001b[0m in \u001b[0;36m_check_1d\u001b[0;34m(x)\u001b[0m\n\u001b[1;32m   1346\u001b[0m             \u001b[0;32mnot\u001b[0m \u001b[0mhasattr\u001b[0m\u001b[0;34m(\u001b[0m\u001b[0mx\u001b[0m\u001b[0;34m,\u001b[0m \u001b[0;34m'ndim'\u001b[0m\u001b[0;34m)\u001b[0m \u001b[0;32mor\u001b[0m\u001b[0;34m\u001b[0m\u001b[0;34m\u001b[0m\u001b[0m\n\u001b[1;32m   1347\u001b[0m             len(x.shape) < 1):\n\u001b[0;32m-> 1348\u001b[0;31m         \u001b[0;32mreturn\u001b[0m \u001b[0mnp\u001b[0m\u001b[0;34m.\u001b[0m\u001b[0matleast_1d\u001b[0m\u001b[0;34m(\u001b[0m\u001b[0mx\u001b[0m\u001b[0;34m)\u001b[0m\u001b[0;34m\u001b[0m\u001b[0;34m\u001b[0m\u001b[0m\n\u001b[0m\u001b[1;32m   1349\u001b[0m     \u001b[0;32melse\u001b[0m\u001b[0;34m:\u001b[0m\u001b[0;34m\u001b[0m\u001b[0;34m\u001b[0m\u001b[0m\n\u001b[1;32m   1350\u001b[0m         \u001b[0;32mreturn\u001b[0m \u001b[0mx\u001b[0m\u001b[0;34m\u001b[0m\u001b[0;34m\u001b[0m\u001b[0m\n",
            "\u001b[0;32m/usr/local/lib/python3.10/dist-packages/numpy/core/shape_base.py\u001b[0m in \u001b[0;36matleast_1d\u001b[0;34m(*arys)\u001b[0m\n\u001b[1;32m     63\u001b[0m     \u001b[0mres\u001b[0m \u001b[0;34m=\u001b[0m \u001b[0;34m[\u001b[0m\u001b[0;34m]\u001b[0m\u001b[0;34m\u001b[0m\u001b[0;34m\u001b[0m\u001b[0m\n\u001b[1;32m     64\u001b[0m     \u001b[0;32mfor\u001b[0m \u001b[0mary\u001b[0m \u001b[0;32min\u001b[0m \u001b[0marys\u001b[0m\u001b[0;34m:\u001b[0m\u001b[0;34m\u001b[0m\u001b[0;34m\u001b[0m\u001b[0m\n\u001b[0;32m---> 65\u001b[0;31m         \u001b[0mary\u001b[0m \u001b[0;34m=\u001b[0m \u001b[0masanyarray\u001b[0m\u001b[0;34m(\u001b[0m\u001b[0mary\u001b[0m\u001b[0;34m)\u001b[0m\u001b[0;34m\u001b[0m\u001b[0;34m\u001b[0m\u001b[0m\n\u001b[0m\u001b[1;32m     66\u001b[0m         \u001b[0;32mif\u001b[0m \u001b[0mary\u001b[0m\u001b[0;34m.\u001b[0m\u001b[0mndim\u001b[0m \u001b[0;34m==\u001b[0m \u001b[0;36m0\u001b[0m\u001b[0;34m:\u001b[0m\u001b[0;34m\u001b[0m\u001b[0;34m\u001b[0m\u001b[0m\n\u001b[1;32m     67\u001b[0m             \u001b[0mresult\u001b[0m \u001b[0;34m=\u001b[0m \u001b[0mary\u001b[0m\u001b[0;34m.\u001b[0m\u001b[0mreshape\u001b[0m\u001b[0;34m(\u001b[0m\u001b[0;36m1\u001b[0m\u001b[0;34m)\u001b[0m\u001b[0;34m\u001b[0m\u001b[0;34m\u001b[0m\u001b[0m\n",
            "\u001b[0;32m/usr/local/lib/python3.10/dist-packages/torch/_tensor.py\u001b[0m in \u001b[0;36m__array__\u001b[0;34m(self, dtype)\u001b[0m\n\u001b[1;32m   1028\u001b[0m             \u001b[0;32mreturn\u001b[0m \u001b[0mhandle_torch_function\u001b[0m\u001b[0;34m(\u001b[0m\u001b[0mTensor\u001b[0m\u001b[0;34m.\u001b[0m\u001b[0m__array__\u001b[0m\u001b[0;34m,\u001b[0m \u001b[0;34m(\u001b[0m\u001b[0mself\u001b[0m\u001b[0;34m,\u001b[0m\u001b[0;34m)\u001b[0m\u001b[0;34m,\u001b[0m \u001b[0mself\u001b[0m\u001b[0;34m,\u001b[0m \u001b[0mdtype\u001b[0m\u001b[0;34m=\u001b[0m\u001b[0mdtype\u001b[0m\u001b[0;34m)\u001b[0m\u001b[0;34m\u001b[0m\u001b[0;34m\u001b[0m\u001b[0m\n\u001b[1;32m   1029\u001b[0m         \u001b[0;32mif\u001b[0m \u001b[0mdtype\u001b[0m \u001b[0;32mis\u001b[0m \u001b[0;32mNone\u001b[0m\u001b[0;34m:\u001b[0m\u001b[0;34m\u001b[0m\u001b[0;34m\u001b[0m\u001b[0m\n\u001b[0;32m-> 1030\u001b[0;31m             \u001b[0;32mreturn\u001b[0m \u001b[0mself\u001b[0m\u001b[0;34m.\u001b[0m\u001b[0mnumpy\u001b[0m\u001b[0;34m(\u001b[0m\u001b[0;34m)\u001b[0m\u001b[0;34m\u001b[0m\u001b[0;34m\u001b[0m\u001b[0m\n\u001b[0m\u001b[1;32m   1031\u001b[0m         \u001b[0;32melse\u001b[0m\u001b[0;34m:\u001b[0m\u001b[0;34m\u001b[0m\u001b[0;34m\u001b[0m\u001b[0m\n\u001b[1;32m   1032\u001b[0m             \u001b[0;32mreturn\u001b[0m \u001b[0mself\u001b[0m\u001b[0;34m.\u001b[0m\u001b[0mnumpy\u001b[0m\u001b[0;34m(\u001b[0m\u001b[0;34m)\u001b[0m\u001b[0;34m.\u001b[0m\u001b[0mastype\u001b[0m\u001b[0;34m(\u001b[0m\u001b[0mdtype\u001b[0m\u001b[0;34m,\u001b[0m \u001b[0mcopy\u001b[0m\u001b[0;34m=\u001b[0m\u001b[0;32mFalse\u001b[0m\u001b[0;34m)\u001b[0m\u001b[0;34m\u001b[0m\u001b[0;34m\u001b[0m\u001b[0m\n",
            "\u001b[0;31mRuntimeError\u001b[0m: Can't call numpy() on Tensor that requires grad. Use tensor.detach().numpy() instead."
          ]
        },
        {
          "output_type": "display_data",
          "data": {
            "text/plain": [
              "<Figure size 640x480 with 1 Axes>"
            ],
            "image/png": "[encoded data removed]"
          },
          "metadata": {}
        }
      ]
    },
    {
      "cell_type": "markdown",
      "source": [
        "# Задача 1 из семинара"
      ],
      "metadata": {
        "id": "tZug6ce4l4sl"
      }
    },
    {
      "cell_type": "code",
      "source": [
        "import torch\n",
        "\n",
        "# Сперва создадим тензор x:\n",
        "x = torch.tensor([[10., 20.]])\n",
        "\n",
        "# Оригинальный полносвязный слой с 2-мя входами и 3-мя нейронами (выходами):\n",
        "fc = torch.nn.Linear(2, 3)\n",
        "\n",
        "# Веса fc-слоя хранятся в fc.weight, а bias'ы соответственно в fc.bias\n",
        "# fc.weight и fc.bias по умолчанию инициализируются случайными числами\n",
        "\n",
        "# Давайте проставим свои значения в веса и bias'ы:\n",
        "w = torch.tensor([[11., 12.], [21., 22.], [31., 32]])\n",
        "fc.weight.data = w\n",
        "\n",
        "b = torch.tensor([[31., 32., 33.]])\n",
        "fc.bias.data = b\n",
        "\n",
        "# Получим выход fc-слоя:\n",
        "fc_out = fc(x)\n",
        "\n",
        "# Попробуем теперь получить аналогичные выходы с помощью матричного перемножения:\n",
        "fc_out_alternative =  x @ torch.t(w) + b\n",
        "\n",
        "# Проверка осуществляется автоматически вызовом функции\n",
        "print(fc_out == fc_out_alternative)"
      ],
      "metadata": {
        "colab": {
          "base_uri": "https://localhost:8080/"
        },
        "id": "MQPd1yA8mIdh",
        "outputId": "333fad76-33fb-4dfc-9d0d-bf6e38dc691c"
      },
      "execution_count": null,
      "outputs": [
        {
          "output_type": "stream",
          "name": "stdout",
          "text": [
            "tensor([[True, True, True]])\n"
          ]
        }
      ]
    },
    {
      "cell_type": "markdown",
      "source": [
        "# Задача 2 из семинара"
      ],
      "metadata": {
        "id": "ktewbFaHnD0i"
      }
    },
    {
      "cell_type": "code",
      "source": [
        "import torch\n",
        "\n",
        "# Сперва создадим тензор x:\n",
        "x = torch.tensor([[10., 20.]])\n",
        "\n",
        "# Оригинальный полносвязный слой с 2-мя входами и 3-мя нейронами (выходами):\n",
        "fc = torch.nn.Linear(2, 3)\n",
        "\n",
        "# Веса fc-слоя хранятся в fc.weight, а bias'ы соответственно в fc.bias\n",
        "# fc.weight и fc.bias по умолчанию инициализируются случайными числами\n",
        "\n",
        "# Давайте проставим свои значения в веса и bias'ы:\n",
        "w = torch.tensor([[11., 12.], [21., 22.], [31., 32]])\n",
        "fc.weight.data = w\n",
        "\n",
        "b = torch.tensor([[31., 32., 33.]])\n",
        "fc.bias.data = b\n",
        "\n",
        "# Получим выход fc-слоя:\n",
        "fc_out = fc(x)\n",
        "# Просуммируем выход fc-слоя, чтобы получить скаляр:\n",
        "fc_out_summed = fc_out.sum()\n",
        "\n",
        "# Посчитаем градиенты формулы fc_out_summed:\n",
        "fc_out_summed.backward()\n",
        "weight_grad = fc.weight.grad\n",
        "bias_grad = fc.bias.grad\n",
        "\n",
        "# Ok, теперь воспроизведем вычисления выше но без fc-слоя:\n",
        "# Проставим, что у \"w\" и \"b\" нужно вычислять градиенты (для fc-слоя это произошло автоматически):\n",
        "w.requires_grad_(True)\n",
        "b.requires_grad_(True)\n",
        "\n",
        "# Получим выход нашей формулы:\n",
        "our_formula = (x @ torch.t(w) + b).sum()\n",
        "\n",
        "# Сделайте backward для нашей формулы:\n",
        "our_formula.backward()\n",
        "\n",
        "# Проверка осуществляется автоматически, вызовом функций:\n",
        "print('fc_weight_grad:', weight_grad)\n",
        "print('our_weight_grad:', w.grad)\n",
        "print('fc_bias_grad:', bias_grad)\n",
        "print('out_bias_grad:', b.grad)"
      ],
      "metadata": {
        "id": "J3LSfwFsnHCE",
        "outputId": "c51b653e-0e8b-42b2-f290-fb890cef79cf",
        "colab": {
          "base_uri": "https://localhost:8080/"
        }
      },
      "execution_count": null,
      "outputs": [
        {
          "output_type": "stream",
          "name": "stdout",
          "text": [
            "fc_weight_grad: tensor([[10., 20.],\n",
            "        [10., 20.],\n",
            "        [10., 20.]])\n",
            "our_weight_grad: tensor([[10., 20.],\n",
            "        [10., 20.],\n",
            "        [10., 20.]])\n",
            "fc_bias_grad: tensor([[1., 1., 1.]])\n",
            "out_bias_grad: tensor([[1., 1., 1.]])\n"
          ]
        }
      ]
    }
  ]
}