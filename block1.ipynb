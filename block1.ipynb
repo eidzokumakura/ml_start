{
  "nbformat": 4,
  "nbformat_minor": 0,
  "metadata": {
    "colab": {
      "provenance": [],
      "gpuType": "T4",
      "toc_visible": true,
      "authorship_tag": "ABX9TyM1GX7LzZwoaSQ0KhyEbrz2",
      "include_colab_link": true
    },
    "kernelspec": {
      "name": "python3",
      "display_name": "Python 3"
    },
    "language_info": {
      "name": "python"
    },
    "accelerator": "GPU"
  },
  "cells": [
    {
      "cell_type": "markdown",
      "metadata": {
        "id": "view-in-github",
        "colab_type": "text"
      },
      "source": [
        "<a href=\"https://colab.research.google.com/github/eidzokumakura/ml_start/blob/main/block1.ipynb\" target=\"_parent\"><img src=\"https://colab.research.google.com/assets/colab-badge.svg\" alt=\"Open In Colab\"/></a>"
      ]
    },
    {
      "cell_type": "markdown",
      "source": [
        "# Cеминар: Базовая работа в PyTorch"
      ],
      "metadata": {
        "id": "wtwu7vohnd-a"
      }
    },
    {
      "cell_type": "code",
      "execution_count": null,
      "metadata": {
        "id": "kVm1gC3wVCJs"
      },
      "outputs": [],
      "source": [
        "import torch"
      ]
    },
    {
      "cell_type": "markdown",
      "source": [
        "Основная структура данных для PyTorch -- это тензоры, по сути -- многомерные матрицы. Давайте создадим такой тензор размера 3 на 4. У него будет 3 строчки и 4 столбика. Если мы напишем torch.zeros, то у нас появится многомерная матрица 3 на 4, состоящая из нулей.\n"
      ],
      "metadata": {
        "id": "jJhsJUapiVam"
      }
    },
    {
      "cell_type": "code",
      "source": [
        "torch.zeros([3, 4])"
      ],
      "metadata": {
        "colab": {
          "base_uri": "https://localhost:8080/"
        },
        "id": "46_1qT-vgkG0",
        "outputId": "4573482e-a828-4292-874a-eb8a44081eab"
      },
      "execution_count": null,
      "outputs": [
        {
          "output_type": "execute_result",
          "data": {
            "text/plain": [
              "tensor([[0., 0., 0., 0.],\n",
              "        [0., 0., 0., 0.],\n",
              "        [0., 0., 0., 0.]])"
            ]
          },
          "metadata": {},
          "execution_count": 3
        }
      ]
    },
    {
      "cell_type": "markdown",
      "source": [
        "Функция torch.ones создаст такую матрицу, состоящую из единиц.\n"
      ],
      "metadata": {
        "id": "wP5CsfbokkRX"
      }
    },
    {
      "cell_type": "code",
      "source": [
        "torch.ones([3, 4])"
      ],
      "metadata": {
        "colab": {
          "base_uri": "https://localhost:8080/"
        },
        "id": "YU05cN28o-jT",
        "outputId": "9d12a63d-7075-446f-f957-b69edb927d6a"
      },
      "execution_count": null,
      "outputs": [
        {
          "output_type": "execute_result",
          "data": {
            "text/plain": [
              "tensor([[1., 1., 1., 1.],\n",
              "        [1., 1., 1., 1.],\n",
              "        [1., 1., 1., 1.]])"
            ]
          },
          "metadata": {},
          "execution_count": 4
        }
      ]
    },
    {
      "cell_type": "markdown",
      "source": [
        "Тут мы создаём матрицу 3 плоскости на 4 строчки на 3 столбика: 3 на 4 на 3"
      ],
      "metadata": {
        "id": "FChDltS62hw4"
      }
    },
    {
      "cell_type": "code",
      "source": [
        "torch.ones([3, 4, 3])"
      ],
      "metadata": {
        "colab": {
          "base_uri": "https://localhost:8080/"
        },
        "id": "C-mnN0Xs-5kA",
        "outputId": "1651a88e-783b-4964-ccb7-c803cd494ab1"
      },
      "execution_count": null,
      "outputs": [
        {
          "output_type": "execute_result",
          "data": {
            "text/plain": [
              "tensor([[[1., 1., 1.],\n",
              "         [1., 1., 1.],\n",
              "         [1., 1., 1.],\n",
              "         [1., 1., 1.]],\n",
              "\n",
              "        [[1., 1., 1.],\n",
              "         [1., 1., 1.],\n",
              "         [1., 1., 1.],\n",
              "         [1., 1., 1.]],\n",
              "\n",
              "        [[1., 1., 1.],\n",
              "         [1., 1., 1.],\n",
              "         [1., 1., 1.],\n",
              "         [1., 1., 1.]]])"
            ]
          },
          "metadata": {},
          "execution_count": 5
        }
      ]
    },
    {
      "cell_type": "markdown",
      "source": [
        "Мы можем создать тензор произвольный, для этого нужно передать объекту torch.tensor объект list."
      ],
      "metadata": {
        "id": "zCBzbFGyAMRO"
      }
    },
    {
      "cell_type": "code",
      "source": [
        "torch.Tensor([[1, 2, 3, 4],\n",
        "              [5, 6, 7, 8],\n",
        "              [9, 10, 11, 12]])"
      ],
      "metadata": {
        "id": "Yl5N1TvxCIkf",
        "colab": {
          "base_uri": "https://localhost:8080/"
        },
        "outputId": "c3e3e116-c84a-43bd-b219-24497d4636cc"
      },
      "execution_count": null,
      "outputs": [
        {
          "output_type": "execute_result",
          "data": {
            "text/plain": [
              "tensor([[ 1.,  2.,  3.,  4.],\n",
              "        [ 5.,  6.,  7.,  8.],\n",
              "        [ 9., 10., 11., 12.]])"
            ]
          },
          "metadata": {},
          "execution_count": 6
        }
      ]
    },
    {
      "cell_type": "markdown",
      "source": [
        "Создали тензор, который мы задали сами, руками. Давайте положим наш объект в переменную \"x\"."
      ],
      "metadata": {
        "id": "2WErC7V8PC3h"
      }
    },
    {
      "cell_type": "code",
      "source": [
        "x = torch.Tensor([[1, 2, 3, 4],\n",
        "              [5, 6, 7, 8],\n",
        "              [9, 10, 11, 12]])"
      ],
      "metadata": {
        "id": "Aa9s7MPJnZVi"
      },
      "execution_count": null,
      "outputs": []
    },
    {
      "cell_type": "markdown",
      "source": [
        "У данной переменной \"x\" мы можем узнать её размер: это будет 3 на 4, то есть 3 строки на 4 столбика. Либо, можно узнать её размер, вызвав атрибут \"shape\" (можно и так, и так)."
      ],
      "metadata": {
        "id": "Or3diGt9pThY"
      }
    },
    {
      "cell_type": "code",
      "source": [
        "x.size()"
      ],
      "metadata": {
        "colab": {
          "base_uri": "https://localhost:8080/"
        },
        "id": "KO8p_CI-qCca",
        "outputId": "45454c17-2061-475e-d5e8-63b1c14e63b4"
      },
      "execution_count": null,
      "outputs": [
        {
          "output_type": "execute_result",
          "data": {
            "text/plain": [
              "torch.Size([3, 4])"
            ]
          },
          "metadata": {},
          "execution_count": 8
        }
      ]
    },
    {
      "cell_type": "code",
      "source": [
        "x.shape"
      ],
      "metadata": {
        "colab": {
          "base_uri": "https://localhost:8080/"
        },
        "id": "P3mzGDMtqFuk",
        "outputId": "7595636a-bef9-44ac-a15c-a8ffd383ed65"
      },
      "execution_count": null,
      "outputs": [
        {
          "output_type": "execute_result",
          "data": {
            "text/plain": [
              "torch.Size([3, 4])"
            ]
          },
          "metadata": {},
          "execution_count": 9
        }
      ]
    },
    {
      "cell_type": "markdown",
      "source": [
        "Для неё справедливы точно такие же варианты индексации, как для обычного объекта list. То есть, если мы возьмём нулевой индекс, то мы получим строчку с нулевым индексом. То же самое со следующей строчкой.\n"
      ],
      "metadata": {
        "id": "wO1Bdhqau-ng"
      }
    },
    {
      "cell_type": "code",
      "source": [
        "x[0]"
      ],
      "metadata": {
        "id": "w3QFbY3PvzxE",
        "colab": {
          "base_uri": "https://localhost:8080/"
        },
        "outputId": "e7bb1126-c051-43d1-8f40-932ee9165c88"
      },
      "execution_count": null,
      "outputs": [
        {
          "output_type": "execute_result",
          "data": {
            "text/plain": [
              "tensor([1., 2., 3., 4.])"
            ]
          },
          "metadata": {},
          "execution_count": 10
        }
      ]
    },
    {
      "cell_type": "code",
      "source": [
        "x[1]"
      ],
      "metadata": {
        "id": "9ayC07YLwS3S",
        "colab": {
          "base_uri": "https://localhost:8080/"
        },
        "outputId": "e9748edc-d5fd-4b07-e711-5049e26bece7"
      },
      "execution_count": null,
      "outputs": [
        {
          "output_type": "execute_result",
          "data": {
            "text/plain": [
              "tensor([5., 6., 7., 8.])"
            ]
          },
          "metadata": {},
          "execution_count": 11
        }
      ]
    },
    {
      "cell_type": "markdown",
      "source": [
        "Если же мы хотим какой-то конкретный элемент, то мы можем написать, какая у него строчка, и через запятую, какой у него столбец. То есть объект x[0,0] будет соответствовать крайнему левому верхнему объекту -- левому верхнему числу в нашем тензоре."
      ],
      "metadata": {
        "id": "Umfs2qdIzdnB"
      }
    },
    {
      "cell_type": "code",
      "source": [
        "x[0, 0]"
      ],
      "metadata": {
        "id": "0ec3k0tHwVCU",
        "colab": {
          "base_uri": "https://localhost:8080/"
        },
        "outputId": "00e29bac-0c17-4924-d945-2261e3070523"
      },
      "execution_count": null,
      "outputs": [
        {
          "output_type": "execute_result",
          "data": {
            "text/plain": [
              "tensor(1.)"
            ]
          },
          "metadata": {},
          "execution_count": 12
        }
      ]
    },
    {
      "cell_type": "markdown",
      "source": [
        "Если же мы хотим, например, взять некоторый slice, у которого будет нулевой столбец и все строчки, то есть это будет уже одномерный тензор, Мы можем это сделать следующим образом: напишем двоеточие, которое значит, что нас интересует значения с нулевого по последнее, и через запятую напишем \"0\". Значит, это будет нулевой столбец, который состоит из трёх чисел: \"1\", \"5\" и \"9\"."
      ],
      "metadata": {
        "id": "fo83M6f9z83i"
      }
    },
    {
      "cell_type": "code",
      "source": [
        "x[:, 0]"
      ],
      "metadata": {
        "colab": {
          "base_uri": "https://localhost:8080/"
        },
        "id": "9tPkkfySz_OR",
        "outputId": "b6ae7a8a-9c65-48b1-bfbc-73a6e59f6812"
      },
      "execution_count": null,
      "outputs": [
        {
          "output_type": "execute_result",
          "data": {
            "text/plain": [
              "tensor([1., 5., 9.])"
            ]
          },
          "metadata": {},
          "execution_count": 13
        }
      ]
    },
    {
      "cell_type": "markdown",
      "source": [
        "Операции над тензорами"
      ],
      "metadata": {
        "id": "-W-FTZro5oqi"
      }
    },
    {
      "cell_type": "code",
      "source": [
        "x + 10"
      ],
      "metadata": {
        "colab": {
          "base_uri": "https://localhost:8080/"
        },
        "id": "iuyXoCld70eb",
        "outputId": "00ae8bf8-cbbe-4047-f691-b6721e11f5c7"
      },
      "execution_count": null,
      "outputs": [
        {
          "output_type": "execute_result",
          "data": {
            "text/plain": [
              "tensor([[11., 12., 13., 14.],\n",
              "        [15., 16., 17., 18.],\n",
              "        [19., 20., 21., 22.]])"
            ]
          },
          "metadata": {},
          "execution_count": 14
        }
      ]
    },
    {
      "cell_type": "code",
      "source": [
        "x ** 2"
      ],
      "metadata": {
        "colab": {
          "base_uri": "https://localhost:8080/"
        },
        "id": "HKh3qybv9h0Y",
        "outputId": "c3f02aa5-ec12-4d3c-e576-f095e8961d1e"
      },
      "execution_count": null,
      "outputs": [
        {
          "output_type": "execute_result",
          "data": {
            "text/plain": [
              "tensor([[  1.,   4.,   9.,  16.],\n",
              "        [ 25.,  36.,  49.,  64.],\n",
              "        [ 81., 100., 121., 144.]])"
            ]
          },
          "metadata": {},
          "execution_count": 15
        }
      ]
    },
    {
      "cell_type": "code",
      "source": [
        "y = torch.Tensor([[12, 11, 10, 9],\n",
        "                  [8, 7, 6, 5],\n",
        "                  [4, 3, 2, 1]])"
      ],
      "metadata": {
        "id": "9uyOgRkQN8KM"
      },
      "execution_count": null,
      "outputs": []
    },
    {
      "cell_type": "code",
      "source": [
        "x + y"
      ],
      "metadata": {
        "colab": {
          "base_uri": "https://localhost:8080/"
        },
        "id": "y1OUz0V6QILt",
        "outputId": "6b94200a-6341-4a5b-8c3a-ed186b6c1bc5"
      },
      "execution_count": null,
      "outputs": [
        {
          "output_type": "execute_result",
          "data": {
            "text/plain": [
              "tensor([[13., 13., 13., 13.],\n",
              "        [13., 13., 13., 13.],\n",
              "        [13., 13., 13., 13.]])"
            ]
          },
          "metadata": {},
          "execution_count": 17
        }
      ]
    },
    {
      "cell_type": "code",
      "source": [
        "x * y"
      ],
      "metadata": {
        "colab": {
          "base_uri": "https://localhost:8080/"
        },
        "id": "VLsdVEg7QQHd",
        "outputId": "fd2a99ee-c4a8-4340-c7c1-621e461bf938"
      },
      "execution_count": null,
      "outputs": [
        {
          "output_type": "execute_result",
          "data": {
            "text/plain": [
              "tensor([[12., 22., 30., 36.],\n",
              "        [40., 42., 42., 40.],\n",
              "        [36., 30., 22., 12.]])"
            ]
          },
          "metadata": {},
          "execution_count": 18
        }
      ]
    },
    {
      "cell_type": "code",
      "source": [
        "x / y"
      ],
      "metadata": {
        "colab": {
          "base_uri": "https://localhost:8080/"
        },
        "id": "MJ7_-mbIQSbC",
        "outputId": "3bf7ce47-d5ad-477d-f811-2c16ba4374f9"
      },
      "execution_count": null,
      "outputs": [
        {
          "output_type": "execute_result",
          "data": {
            "text/plain": [
              "tensor([[ 0.0833,  0.1818,  0.3000,  0.4444],\n",
              "        [ 0.6250,  0.8571,  1.1667,  1.6000],\n",
              "        [ 2.2500,  3.3333,  5.5000, 12.0000]])"
            ]
          },
          "metadata": {},
          "execution_count": 19
        }
      ]
    },
    {
      "cell_type": "code",
      "source": [
        "x % y"
      ],
      "metadata": {
        "colab": {
          "base_uri": "https://localhost:8080/"
        },
        "id": "l03USlt_QTuu",
        "outputId": "057a849a-4ac0-4d79-bf99-a35eeb56c348"
      },
      "execution_count": null,
      "outputs": [
        {
          "output_type": "execute_result",
          "data": {
            "text/plain": [
              "tensor([[1., 2., 3., 4.],\n",
              "        [5., 6., 1., 3.],\n",
              "        [1., 1., 1., 0.]])"
            ]
          },
          "metadata": {},
          "execution_count": 20
        }
      ]
    },
    {
      "cell_type": "code",
      "source": [
        "torch.exp(x)"
      ],
      "metadata": {
        "colab": {
          "base_uri": "https://localhost:8080/"
        },
        "id": "JQlzG2czUG92",
        "outputId": "b3810a6a-7c65-4c09-bea7-799486dbae3e"
      },
      "execution_count": null,
      "outputs": [
        {
          "output_type": "execute_result",
          "data": {
            "text/plain": [
              "tensor([[2.7183e+00, 7.3891e+00, 2.0086e+01, 5.4598e+01],\n",
              "        [1.4841e+02, 4.0343e+02, 1.0966e+03, 2.9810e+03],\n",
              "        [8.1031e+03, 2.2026e+04, 5.9874e+04, 1.6275e+05]])"
            ]
          },
          "metadata": {},
          "execution_count": 21
        }
      ]
    },
    {
      "cell_type": "code",
      "source": [
        "torch.log(x)"
      ],
      "metadata": {
        "colab": {
          "base_uri": "https://localhost:8080/"
        },
        "id": "MMiaL3WAULzq",
        "outputId": "27071ccc-36f3-4922-9f60-7eebef2b37f3"
      },
      "execution_count": null,
      "outputs": [
        {
          "output_type": "execute_result",
          "data": {
            "text/plain": [
              "tensor([[0.0000, 0.6931, 1.0986, 1.3863],\n",
              "        [1.6094, 1.7918, 1.9459, 2.0794],\n",
              "        [2.1972, 2.3026, 2.3979, 2.4849]])"
            ]
          },
          "metadata": {},
          "execution_count": 22
        }
      ]
    },
    {
      "cell_type": "code",
      "source": [
        "torch.sin(x)"
      ],
      "metadata": {
        "colab": {
          "base_uri": "https://localhost:8080/"
        },
        "id": "8rNXzJeqUOpJ",
        "outputId": "68ccdaf6-c13e-4712-e6a1-db486047b480"
      },
      "execution_count": null,
      "outputs": [
        {
          "output_type": "execute_result",
          "data": {
            "text/plain": [
              "tensor([[ 0.8415,  0.9093,  0.1411, -0.7568],\n",
              "        [-0.9589, -0.2794,  0.6570,  0.9894],\n",
              "        [ 0.4121, -0.5440, -1.0000, -0.5366]])"
            ]
          },
          "metadata": {},
          "execution_count": 23
        }
      ]
    },
    {
      "cell_type": "code",
      "source": [
        "x > 3"
      ],
      "metadata": {
        "colab": {
          "base_uri": "https://localhost:8080/"
        },
        "id": "42jT-iHIURaF",
        "outputId": "c76ac016-b4eb-438d-ac92-474e1ffc9614"
      },
      "execution_count": null,
      "outputs": [
        {
          "output_type": "execute_result",
          "data": {
            "text/plain": [
              "tensor([[False, False, False,  True],\n",
              "        [ True,  True,  True,  True],\n",
              "        [ True,  True,  True,  True]])"
            ]
          },
          "metadata": {},
          "execution_count": 24
        }
      ]
    },
    {
      "cell_type": "code",
      "source": [
        "mask = x > 3"
      ],
      "metadata": {
        "id": "QGBAR7xGZQYa"
      },
      "execution_count": null,
      "outputs": []
    },
    {
      "cell_type": "code",
      "source": [
        "x[mask]"
      ],
      "metadata": {
        "colab": {
          "base_uri": "https://localhost:8080/"
        },
        "id": "WHBrjqyfZSPb",
        "outputId": "34cf3310-85ef-4ee0-eb47-0f920d4356e4"
      },
      "execution_count": null,
      "outputs": [
        {
          "output_type": "execute_result",
          "data": {
            "text/plain": [
              "tensor([ 4.,  5.,  6.,  7.,  8.,  9., 10., 11., 12.])"
            ]
          },
          "metadata": {},
          "execution_count": 26
        }
      ]
    },
    {
      "cell_type": "code",
      "source": [
        "y = x.clone()\n",
        "y[0, 0] = 999\n",
        "print(x)\n",
        "print(y)"
      ],
      "metadata": {
        "colab": {
          "base_uri": "https://localhost:8080/"
        },
        "id": "P7Kbbly2cowC",
        "outputId": "9ccc6ddd-2291-4ead-9d9b-807953a75c04"
      },
      "execution_count": null,
      "outputs": [
        {
          "output_type": "stream",
          "name": "stdout",
          "text": [
            "tensor([[ 1.,  2.,  3.,  4.],\n",
            "        [ 5.,  6.,  7.,  8.],\n",
            "        [ 9., 10., 11., 12.]])\n",
            "tensor([[999.,   2.,   3.,   4.],\n",
            "        [  5.,   6.,   7.,   8.],\n",
            "        [  9.,  10.,  11.,  12.]])\n"
          ]
        }
      ]
    },
    {
      "cell_type": "code",
      "source": [
        "x.dtype"
      ],
      "metadata": {
        "colab": {
          "base_uri": "https://localhost:8080/"
        },
        "id": "IxXUOOR6jRON",
        "outputId": "c4a70abb-fbf0-429b-8fe8-3c5a85f74a73"
      },
      "execution_count": null,
      "outputs": [
        {
          "output_type": "execute_result",
          "data": {
            "text/plain": [
              "torch.float32"
            ]
          },
          "metadata": {},
          "execution_count": 28
        }
      ]
    },
    {
      "cell_type": "code",
      "source": [
        "x = x.double()\n",
        "print(x)\n",
        "x = x.int()\n",
        "print(x)\n",
        "x = x.float()\n",
        "print(x)"
      ],
      "metadata": {
        "colab": {
          "base_uri": "https://localhost:8080/"
        },
        "id": "bXt20KuQlNtE",
        "outputId": "911133f9-558d-4c74-bb8b-17e8bd3f8278"
      },
      "execution_count": null,
      "outputs": [
        {
          "output_type": "stream",
          "name": "stdout",
          "text": [
            "tensor([[ 1.,  2.,  3.,  4.],\n",
            "        [ 5.,  6.,  7.,  8.],\n",
            "        [ 9., 10., 11., 12.]], dtype=torch.float64)\n",
            "tensor([[ 1,  2,  3,  4],\n",
            "        [ 5,  6,  7,  8],\n",
            "        [ 9, 10, 11, 12]], dtype=torch.int32)\n",
            "tensor([[ 1.,  2.,  3.,  4.],\n",
            "        [ 5.,  6.,  7.,  8.],\n",
            "        [ 9., 10., 11., 12.]])\n"
          ]
        }
      ]
    },
    {
      "cell_type": "code",
      "source": [
        "import numpy as np\n",
        "x = np.array([[1, 2, 3, 4],\n",
        "              [4, 3, 2, 1]])\n",
        "x"
      ],
      "metadata": {
        "colab": {
          "base_uri": "https://localhost:8080/"
        },
        "id": "UiHbPq5nqwK5",
        "outputId": "650fd4f9-2f16-4935-d3b9-91873d200741"
      },
      "execution_count": null,
      "outputs": [
        {
          "output_type": "execute_result",
          "data": {
            "text/plain": [
              "array([[1, 2, 3, 4],\n",
              "       [4, 3, 2, 1]])"
            ]
          },
          "metadata": {},
          "execution_count": 30
        }
      ]
    },
    {
      "cell_type": "code",
      "source": [
        "x = torch.from_numpy(x)\n",
        "x"
      ],
      "metadata": {
        "colab": {
          "base_uri": "https://localhost:8080/"
        },
        "id": "fsgR8YFFq43b",
        "outputId": "d76d5051-eed5-4d84-d566-6ae01a08666f"
      },
      "execution_count": null,
      "outputs": [
        {
          "output_type": "execute_result",
          "data": {
            "text/plain": [
              "tensor([[1, 2, 3, 4],\n",
              "        [4, 3, 2, 1]])"
            ]
          },
          "metadata": {},
          "execution_count": 31
        }
      ]
    },
    {
      "cell_type": "code",
      "source": [
        "x = x.numpy()\n",
        "x"
      ],
      "metadata": {
        "colab": {
          "base_uri": "https://localhost:8080/"
        },
        "id": "D0_QLyh7q-uI",
        "outputId": "45c7d43b-3e8b-402c-f070-b24868111ebb"
      },
      "execution_count": null,
      "outputs": [
        {
          "output_type": "execute_result",
          "data": {
            "text/plain": [
              "array([[1, 2, 3, 4],\n",
              "       [4, 3, 2, 1]])"
            ]
          },
          "metadata": {},
          "execution_count": 32
        }
      ]
    },
    {
      "cell_type": "code",
      "source": [
        "x = torch.rand([2, 3])\n",
        "x"
      ],
      "metadata": {
        "colab": {
          "base_uri": "https://localhost:8080/"
        },
        "id": "093p_NBVrIzN",
        "outputId": "c6fd555c-e880-41bf-8a79-dd67eadb1544"
      },
      "execution_count": null,
      "outputs": [
        {
          "output_type": "execute_result",
          "data": {
            "text/plain": [
              "tensor([[0.4822, 0.0102, 0.5518],\n",
              "        [0.1563, 0.3291, 0.1341]])"
            ]
          },
          "metadata": {},
          "execution_count": 33
        }
      ]
    },
    {
      "cell_type": "code",
      "source": [
        "torch.cuda.is_available()"
      ],
      "metadata": {
        "colab": {
          "base_uri": "https://localhost:8080/"
        },
        "id": "wbniFx-IrwzE",
        "outputId": "19ee4cf2-33a9-4025-ec6d-aa64c01f2203"
      },
      "execution_count": null,
      "outputs": [
        {
          "output_type": "execute_result",
          "data": {
            "text/plain": [
              "True"
            ]
          },
          "metadata": {},
          "execution_count": 34
        }
      ]
    },
    {
      "cell_type": "code",
      "source": [
        "torch.device('cuda:0')"
      ],
      "metadata": {
        "id": "c4qECl8fsTFv",
        "outputId": "004ffe56-0f61-494e-a915-ea65605bf5de",
        "colab": {
          "base_uri": "https://localhost:8080/"
        }
      },
      "execution_count": null,
      "outputs": [
        {
          "output_type": "execute_result",
          "data": {
            "text/plain": [
              "device(type='cuda', index=0)"
            ]
          },
          "metadata": {},
          "execution_count": 35
        }
      ]
    }
  ]
}